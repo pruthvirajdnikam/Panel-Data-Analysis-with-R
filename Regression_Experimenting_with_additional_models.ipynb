{
  "nbformat": 4,
  "nbformat_minor": 0,
  "metadata": {
    "colab": {
      "provenance": [],
      "authorship_tag": "ABX9TyPlHpfDZMNTXBWqFLDFbPub",
      "include_colab_link": true
    },
    "kernelspec": {
      "name": "python3",
      "display_name": "Python 3"
    },
    "language_info": {
      "name": "python"
    }
  },
  "cells": [
    {
      "cell_type": "markdown",
      "metadata": {
        "id": "view-in-github",
        "colab_type": "text"
      },
      "source": [
        "<a href=\"https://colab.research.google.com/github/pruthvirajdnikam/Panel-Data-Analysis-with-R/blob/main/Regression_Experimenting_with_additional_models.ipynb\" target=\"_parent\"><img src=\"https://colab.research.google.com/assets/colab-badge.svg\" alt=\"Open In Colab\"/></a>"
      ]
    },
    {
      "cell_type": "code",
      "source": [
        "# Import modules we'll need for this notebook\n",
        "import pandas as pd\n",
        "from sklearn.linear_model import LinearRegression\n",
        "from sklearn.metrics import mean_squared_error, r2_score\n",
        "from sklearn.model_selection import train_test_split\n",
        "import numpy as np\n",
        "import matplotlib.pyplot as plt\n",
        "%matplotlib inline"
      ],
      "metadata": {
        "id": "xD5U2JkhBt1U"
      },
      "execution_count": null,
      "outputs": []
    },
    {
      "cell_type": "code",
      "source": [
        "# load the training dataset\n",
        "!wget https://raw.githubusercontent.com/MicrosoftDocs/mslearn-introduction-to-machine-learning/main/Data/ml-basics/daily-bike-share.csv\n",
        "bike_data = pd.read_csv('daily-bike-share.csv')\n",
        "bike_data['day'] = pd.DatetimeIndex(bike_data['dteday']).day\n",
        "numeric_features = ['temp', 'atemp', 'hum', 'windspeed']\n",
        "categorical_features = ['season','mnth','holiday','weekday','workingday','weathersit', 'day']\n",
        "bike_data[numeric_features + ['rentals']].describe()\n",
        "print(bike_data.head())"
      ],
      "metadata": {
        "colab": {
          "base_uri": "https://localhost:8080/"
        },
        "id": "ANvkFCmRB2O2",
        "outputId": "1aab9b5d-a199-4d51-8c3e-88bd376b3c44"
      },
      "execution_count": null,
      "outputs": [
        {
          "output_type": "stream",
          "name": "stdout",
          "text": [
            "--2022-11-01 11:50:49--  https://raw.githubusercontent.com/MicrosoftDocs/mslearn-introduction-to-machine-learning/main/Data/ml-basics/daily-bike-share.csv\n",
            "Resolving raw.githubusercontent.com (raw.githubusercontent.com)... 185.199.111.133, 185.199.109.133, 185.199.110.133, ...\n",
            "Connecting to raw.githubusercontent.com (raw.githubusercontent.com)|185.199.111.133|:443... connected.\n",
            "HTTP request sent, awaiting response... 200 OK\n",
            "Length: 48800 (48K) [text/plain]\n",
            "Saving to: ‘daily-bike-share.csv.1’\n",
            "\n",
            "\rdaily-bike-share.cs   0%[                    ]       0  --.-KB/s               \rdaily-bike-share.cs 100%[===================>]  47.66K  --.-KB/s    in 0.009s  \n",
            "\n",
            "2022-11-01 11:50:50 (5.35 MB/s) - ‘daily-bike-share.csv.1’ saved [48800/48800]\n",
            "\n",
            "   instant    dteday  season  yr  mnth  holiday  weekday  workingday  \\\n",
            "0        1  1/1/2011       1   0     1        0        6           0   \n",
            "1        2  1/2/2011       1   0     1        0        0           0   \n",
            "2        3  1/3/2011       1   0     1        0        1           1   \n",
            "3        4  1/4/2011       1   0     1        0        2           1   \n",
            "4        5  1/5/2011       1   0     1        0        3           1   \n",
            "\n",
            "   weathersit      temp     atemp       hum  windspeed  rentals  day  \n",
            "0           2  0.344167  0.363625  0.805833   0.160446      331    1  \n",
            "1           2  0.363478  0.353739  0.696087   0.248539      131    2  \n",
            "2           1  0.196364  0.189405  0.437273   0.248309      120    3  \n",
            "3           1  0.200000  0.212122  0.590435   0.160296      108    4  \n",
            "4           1  0.226957  0.229270  0.436957   0.186900       82    5  \n"
          ]
        }
      ]
    },
    {
      "cell_type": "code",
      "source": [
        "# Separate features and labels\n",
        "# After separating the dataset, we now have numpy arrays named **X** containing the features, and **y** containing the labels.\n",
        "X, y = bike_data[['season','mnth', 'holiday','weekday','workingday','weathersit','temp', 'atemp', 'hum', 'windspeed']].values, bike_data['rentals'].values\n",
        "\n",
        "# Split data 70%-30% into training set and test set\n",
        "X_train, X_test, y_train, y_test = train_test_split(X, y, test_size=0.30, random_state=0)\n",
        "\n",
        "print ('Training Set: %d rows\\nTest Set: %d rows' % (X_train.shape[0], X_test.shape[0]))\n"
      ],
      "metadata": {
        "colab": {
          "base_uri": "https://localhost:8080/"
        },
        "id": "COHSPoEzCLCR",
        "outputId": "d757f810-0f57-4869-9ce3-4782de2b2921"
      },
      "execution_count": null,
      "outputs": [
        {
          "output_type": "stream",
          "name": "stdout",
          "text": [
            "Training Set: 511 rows\n",
            "Test Set: 220 rows\n"
          ]
        }
      ]
    },
    {
      "cell_type": "code",
      "source": [
        "from sklearn.linear_model import Lasso\n"
      ],
      "metadata": {
        "id": "lJpJ-5tFCdqC"
      },
      "execution_count": null,
      "outputs": []
    },
    {
      "cell_type": "code",
      "source": [
        "# Fit a lasso model on the training set\n",
        "model = Lasso().fit(X_train, y_train)\n",
        "print (model, \"\\n\")\n"
      ],
      "metadata": {
        "colab": {
          "base_uri": "https://localhost:8080/"
        },
        "id": "oZL7lfnQCfi9",
        "outputId": "8bbd8c18-e4a3-4efc-8a19-46d8d84b35c3"
      },
      "execution_count": null,
      "outputs": [
        {
          "output_type": "stream",
          "name": "stdout",
          "text": [
            "Lasso() \n",
            "\n"
          ]
        }
      ]
    },
    {
      "cell_type": "code",
      "source": [
        "# Evaluate the model using the test data\n",
        "predictions = model.predict(X_test)\n",
        "mse = mean_squared_error(y_test, predictions)\n",
        "print(\"MSE:\", mse)\n",
        "rmse = np.sqrt(mse)\n",
        "print(\"RMSE:\", rmse)\n",
        "r2 = r2_score(y_test, predictions)\n",
        "print(\"R2:\", r2)\n"
      ],
      "metadata": {
        "colab": {
          "base_uri": "https://localhost:8080/"
        },
        "id": "dL8gocDECk4_",
        "outputId": "8fa67eb5-00ca-45fa-f21d-ca690e2d4b3f"
      },
      "execution_count": null,
      "outputs": [
        {
          "output_type": "stream",
          "name": "stdout",
          "text": [
            "MSE: 201155.70593338404\n",
            "RMSE: 448.5038527519959\n",
            "R2: 0.6056468637824488\n"
          ]
        }
      ]
    },
    {
      "cell_type": "code",
      "source": [
        "# Plot predicted vs actual\n",
        "plt.scatter(y_test, predictions)\n",
        "plt.xlabel('Actual Labels')\n",
        "plt.ylabel('Predicted Labels')\n",
        "plt.title('Daily Bike Share Predictions')"
      ],
      "metadata": {
        "colab": {
          "base_uri": "https://localhost:8080/",
          "height": 313
        },
        "id": "WxNHWXuiCqn5",
        "outputId": "7bcfb58f-71ea-4037-8e09-17b5fc4cee1f"
      },
      "execution_count": null,
      "outputs": [
        {
          "output_type": "execute_result",
          "data": {
            "text/plain": [
              "Text(0.5, 1.0, 'Daily Bike Share Predictions')"
            ]
          },
          "metadata": {},
          "execution_count": 8
        },
        {
          "output_type": "display_data",
          "data": {
            "text/plain": [
              "<Figure size 432x288 with 1 Axes>"
            ],
            "image/png": "[encoded data removed]"
          },
          "metadata": {
            "needs_background": "light"
          }
        }
      ]
    },
    {
      "cell_type": "code",
      "source": [
        "# overlay the regression line\n",
        "z = np.polyfit(y_test, predictions, 1)\n",
        "p = np.poly1d(z)\n",
        "plt.plot(y_test,p(y_test), color='magenta')\n",
        "plt.show()"
      ],
      "metadata": {
        "colab": {
          "base_uri": "https://localhost:8080/",
          "height": 265
        },
        "id": "S3_-VnC6CyYG",
        "outputId": "a863fab2-f230-401f-912e-a9c34baa4ea5"
      },
      "execution_count": null,
      "outputs": [
        {
          "output_type": "display_data",
          "data": {
            "text/plain": [
              "<Figure size 432x288 with 1 Axes>"
            ],
            "image/png": "[encoded data removed]"
          },
          "metadata": {
            "needs_background": "light"
          }
        }
      ]
    },
    {
      "cell_type": "markdown",
      "source": [
        " Decision Tree Algorithm As an alternative to a linear model, there's a category of algorithms for machine learning that uses a tree-based approach in which the features in the dataset are examined in a series of evaluations, each of which results in a branch in a decision tree based on the feature value. At the end of each series of branches are leaf-nodes with the predicted label value based on the feature values."
      ],
      "metadata": {
        "id": "M6dps5bjC88_"
      }
    },
    {
      "cell_type": "code",
      "source": [
        "from sklearn.tree import DecisionTreeRegressor\n",
        "from sklearn.tree import export_text"
      ],
      "metadata": {
        "id": "6Q1towqwDD5R"
      },
      "execution_count": null,
      "outputs": []
    },
    {
      "cell_type": "code",
      "source": [
        "# Train the model\n",
        "model = DecisionTreeRegressor().fit(X_train, y_train)\n",
        "print (model, \"\\n\")"
      ],
      "metadata": {
        "colab": {
          "base_uri": "https://localhost:8080/"
        },
        "id": "dK4JhCLVDJjC",
        "outputId": "17057e46-88c6-4684-a25a-1a11bf9865d0"
      },
      "execution_count": null,
      "outputs": [
        {
          "output_type": "stream",
          "name": "stdout",
          "text": [
            "DecisionTreeRegressor() \n",
            "\n"
          ]
        }
      ]
    },
    {
      "cell_type": "code",
      "source": [
        "# Visualize the model tree\n",
        "tree = export_text(model)\n",
        "print(tree)"
      ],
      "metadata": {
        "colab": {
          "base_uri": "https://localhost:8080/"
        },
        "id": "lmBz4kD_Dfco",
        "outputId": "b923ed6b-d0f4-4818-eee0-f71d0c6fc2e5"
      },
      "execution_count": null,
      "outputs": [
        {
          "output_type": "stream",
          "name": "stdout",
          "text": [
            "|--- feature_6 <= 0.45\n",
            "|   |--- feature_4 <= 0.50\n",
            "|   |   |--- feature_7 <= 0.32\n",
            "|   |   |   |--- feature_8 <= 0.41\n",
            "|   |   |   |   |--- feature_1 <= 2.50\n",
            "|   |   |   |   |   |--- feature_6 <= 0.29\n",
            "|   |   |   |   |   |   |--- feature_1 <= 1.50\n",
            "|   |   |   |   |   |   |   |--- value: [558.00]\n",
            "|   |   |   |   |   |   |--- feature_1 >  1.50\n",
            "|   |   |   |   |   |   |   |--- value: [515.00]\n",
            "|   |   |   |   |   |--- feature_6 >  0.29\n",
            "|   |   |   |   |   |   |--- value: [317.00]\n",
            "|   |   |   |   |--- feature_1 >  2.50\n",
            "|   |   |   |   |   |--- feature_9 <= 0.28\n",
            "|   |   |   |   |   |   |--- feature_6 <= 0.28\n",
            "|   |   |   |   |   |   |   |--- value: [981.00]\n",
            "|   |   |   |   |   |   |--- feature_6 >  0.28\n",
            "|   |   |   |   |   |   |   |--- value: [968.00]\n",
            "|   |   |   |   |   |--- feature_9 >  0.28\n",
            "|   |   |   |   |   |   |--- feature_7 <= 0.28\n",
            "|   |   |   |   |   |   |   |--- value: [532.00]\n",
            "|   |   |   |   |   |   |--- feature_7 >  0.28\n",
            "|   |   |   |   |   |   |   |--- value: [710.00]\n",
            "|   |   |   |--- feature_8 >  0.41\n",
            "|   |   |   |   |--- feature_7 <= 0.25\n",
            "|   |   |   |   |   |--- feature_6 <= 0.18\n",
            "|   |   |   |   |   |   |--- feature_8 <= 0.43\n",
            "|   |   |   |   |   |   |   |--- value: [284.00]\n",
            "|   |   |   |   |   |   |--- feature_8 >  0.43\n",
            "|   |   |   |   |   |   |   |--- feature_6 <= 0.11\n",
            "|   |   |   |   |   |   |   |   |--- value: [150.00]\n",
            "|   |   |   |   |   |   |   |--- feature_6 >  0.11\n",
            "|   |   |   |   |   |   |   |   |--- feature_9 <= 0.21\n",
            "|   |   |   |   |   |   |   |   |   |--- value: [117.00]\n",
            "|   |   |   |   |   |   |   |   |--- feature_9 >  0.21\n",
            "|   |   |   |   |   |   |   |   |   |--- feature_5 <= 1.50\n",
            "|   |   |   |   |   |   |   |   |   |   |--- value: [73.00]\n",
            "|   |   |   |   |   |   |   |   |   |--- feature_5 >  1.50\n",
            "|   |   |   |   |   |   |   |   |   |   |--- feature_9 <= 0.24\n",
            "|   |   |   |   |   |   |   |   |   |   |   |--- value: [67.00]\n",
            "|   |   |   |   |   |   |   |   |   |   |--- feature_9 >  0.24\n",
            "|   |   |   |   |   |   |   |   |   |   |   |--- value: [68.00]\n",
            "|   |   |   |   |   |--- feature_6 >  0.18\n",
            "|   |   |   |   |   |   |--- feature_8 <= 0.61\n",
            "|   |   |   |   |   |   |   |--- feature_9 <= 0.19\n",
            "|   |   |   |   |   |   |   |   |--- value: [333.00]\n",
            "|   |   |   |   |   |   |   |--- feature_9 >  0.19\n",
            "|   |   |   |   |   |   |   |   |--- feature_8 <= 0.53\n",
            "|   |   |   |   |   |   |   |   |   |--- feature_9 <= 0.21\n",
            "|   |   |   |   |   |   |   |   |   |   |--- value: [251.00]\n",
            "|   |   |   |   |   |   |   |   |   |--- feature_9 >  0.21\n",
            "|   |   |   |   |   |   |   |   |   |   |--- feature_8 <= 0.48\n",
            "|   |   |   |   |   |   |   |   |   |   |   |--- value: [205.00]\n",
            "|   |   |   |   |   |   |   |   |   |   |--- feature_8 >  0.48\n",
            "|   |   |   |   |   |   |   |   |   |   |   |--- value: [217.00]\n",
            "|   |   |   |   |   |   |   |   |--- feature_8 >  0.53\n",
            "|   |   |   |   |   |   |   |   |   |--- feature_7 <= 0.24\n",
            "|   |   |   |   |   |   |   |   |   |   |--- value: [288.00]\n",
            "|   |   |   |   |   |   |   |   |   |--- feature_7 >  0.24\n",
            "|   |   |   |   |   |   |   |   |   |   |--- value: [275.00]\n",
            "|   |   |   |   |   |   |--- feature_8 >  0.61\n",
            "|   |   |   |   |   |   |   |--- feature_6 <= 0.21\n",
            "|   |   |   |   |   |   |   |   |--- value: [123.00]\n",
            "|   |   |   |   |   |   |   |--- feature_6 >  0.21\n",
            "|   |   |   |   |   |   |   |   |--- value: [140.00]\n",
            "|   |   |   |   |--- feature_7 >  0.25\n",
            "|   |   |   |   |   |--- feature_9 <= 0.11\n",
            "|   |   |   |   |   |   |--- value: [706.00]\n",
            "|   |   |   |   |   |--- feature_9 >  0.11\n",
            "|   |   |   |   |   |   |--- feature_8 <= 0.54\n",
            "|   |   |   |   |   |   |   |--- feature_5 <= 1.50\n",
            "|   |   |   |   |   |   |   |   |--- feature_7 <= 0.26\n",
            "|   |   |   |   |   |   |   |   |   |--- value: [309.00]\n",
            "|   |   |   |   |   |   |   |   |--- feature_7 >  0.26\n",
            "|   |   |   |   |   |   |   |   |   |--- feature_0 <= 2.50\n",
            "|   |   |   |   |   |   |   |   |   |   |--- feature_7 <= 0.27\n",
            "|   |   |   |   |   |   |   |   |   |   |   |--- value: [408.00]\n",
            "|   |   |   |   |   |   |   |   |   |   |--- feature_7 >  0.27\n",
            "|   |   |   |   |   |   |   |   |   |   |   |--- truncated branch of depth 2\n",
            "|   |   |   |   |   |   |   |   |   |--- feature_0 >  2.50\n",
            "|   |   |   |   |   |   |   |   |   |   |--- feature_3 <= 5.50\n",
            "|   |   |   |   |   |   |   |   |   |   |   |--- value: [440.00]\n",
            "|   |   |   |   |   |   |   |   |   |   |--- feature_3 >  5.50\n",
            "|   |   |   |   |   |   |   |   |   |   |   |--- value: [502.00]\n",
            "|   |   |   |   |   |   |   |--- feature_5 >  1.50\n",
            "|   |   |   |   |   |   |   |   |--- value: [618.00]\n",
            "|   |   |   |   |   |   |--- feature_8 >  0.54\n",
            "|   |   |   |   |   |   |   |--- feature_6 <= 0.29\n",
            "|   |   |   |   |   |   |   |   |--- feature_9 <= 0.16\n",
            "|   |   |   |   |   |   |   |   |   |--- value: [354.00]\n",
            "|   |   |   |   |   |   |   |   |--- feature_9 >  0.16\n",
            "|   |   |   |   |   |   |   |   |   |--- value: [318.00]\n",
            "|   |   |   |   |   |   |   |--- feature_6 >  0.29\n",
            "|   |   |   |   |   |   |   |   |--- feature_3 <= 3.50\n",
            "|   |   |   |   |   |   |   |   |   |--- value: [195.00]\n",
            "|   |   |   |   |   |   |   |   |--- feature_3 >  3.50\n",
            "|   |   |   |   |   |   |   |   |   |--- value: [155.00]\n",
            "|   |   |--- feature_7 >  0.32\n",
            "|   |   |   |--- feature_9 <= 0.25\n",
            "|   |   |   |   |--- feature_7 <= 0.38\n",
            "|   |   |   |   |   |--- feature_7 <= 0.36\n",
            "|   |   |   |   |   |   |--- feature_6 <= 0.36\n",
            "|   |   |   |   |   |   |   |--- feature_1 <= 10.50\n",
            "|   |   |   |   |   |   |   |   |--- feature_7 <= 0.33\n",
            "|   |   |   |   |   |   |   |   |   |--- feature_9 <= 0.21\n",
            "|   |   |   |   |   |   |   |   |   |   |--- feature_0 <= 1.50\n",
            "|   |   |   |   |   |   |   |   |   |   |   |--- value: [1047.00]\n",
            "|   |   |   |   |   |   |   |   |   |   |--- feature_0 >  1.50\n",
            "|   |   |   |   |   |   |   |   |   |   |   |--- truncated branch of depth 2\n",
            "|   |   |   |   |   |   |   |   |   |--- feature_9 >  0.21\n",
            "|   |   |   |   |   |   |   |   |   |   |--- value: [724.00]\n",
            "|   |   |   |   |   |   |   |   |--- feature_7 >  0.33\n",
            "|   |   |   |   |   |   |   |   |   |--- feature_3 <= 3.00\n",
            "|   |   |   |   |   |   |   |   |   |   |--- feature_7 <= 0.35\n",
            "|   |   |   |   |   |   |   |   |   |   |   |--- truncated branch of depth 2\n",
            "|   |   |   |   |   |   |   |   |   |   |--- feature_7 >  0.35\n",
            "|   |   |   |   |   |   |   |   |   |   |   |--- value: [694.00]\n",
            "|   |   |   |   |   |   |   |   |   |--- feature_3 >  3.00\n",
            "|   |   |   |   |   |   |   |   |   |   |--- value: [879.00]\n",
            "|   |   |   |   |   |   |   |--- feature_1 >  10.50\n",
            "|   |   |   |   |   |   |   |   |--- feature_8 <= 0.57\n",
            "|   |   |   |   |   |   |   |   |   |--- feature_8 <= 0.51\n",
            "|   |   |   |   |   |   |   |   |   |   |--- value: [943.00]\n",
            "|   |   |   |   |   |   |   |   |   |--- feature_8 >  0.51\n",
            "|   |   |   |   |   |   |   |   |   |   |--- feature_8 <= 0.53\n",
            "|   |   |   |   |   |   |   |   |   |   |   |--- value: [1156.00]\n",
            "|   |   |   |   |   |   |   |   |   |   |--- feature_8 >  0.53\n",
            "|   |   |   |   |   |   |   |   |   |   |   |--- truncated branch of depth 2\n",
            "|   |   |   |   |   |   |   |   |--- feature_8 >  0.57\n",
            "|   |   |   |   |   |   |   |   |   |--- feature_9 <= 0.10\n",
            "|   |   |   |   |   |   |   |   |   |   |--- feature_8 <= 0.66\n",
            "|   |   |   |   |   |   |   |   |   |   |   |--- value: [955.00]\n",
            "|   |   |   |   |   |   |   |   |   |   |--- feature_8 >  0.66\n",
            "|   |   |   |   |   |   |   |   |   |   |   |--- truncated branch of depth 2\n",
            "|   |   |   |   |   |   |   |   |   |--- feature_9 >  0.10\n",
            "|   |   |   |   |   |   |   |   |   |   |--- feature_3 <= 3.00\n",
            "|   |   |   |   |   |   |   |   |   |   |   |--- value: [922.00]\n",
            "|   |   |   |   |   |   |   |   |   |   |--- feature_3 >  3.00\n",
            "|   |   |   |   |   |   |   |   |   |   |   |--- value: [767.00]\n",
            "|   |   |   |   |   |   |--- feature_6 >  0.36\n",
            "|   |   |   |   |   |   |   |--- value: [1658.00]\n",
            "|   |   |   |   |   |--- feature_7 >  0.36\n",
            "|   |   |   |   |   |   |--- feature_6 <= 0.35\n",
            "|   |   |   |   |   |   |   |--- value: [331.00]\n",
            "|   |   |   |   |   |   |--- feature_6 >  0.35\n",
            "|   |   |   |   |   |   |   |--- feature_8 <= 0.69\n",
            "|   |   |   |   |   |   |   |   |--- value: [560.00]\n",
            "|   |   |   |   |   |   |   |--- feature_8 >  0.69\n",
            "|   |   |   |   |   |   |   |   |--- value: [538.00]\n",
            "|   |   |   |   |--- feature_7 >  0.38\n",
            "|   |   |   |   |   |--- feature_9 <= 0.24\n",
            "|   |   |   |   |   |   |--- feature_9 <= 0.15\n",
            "|   |   |   |   |   |   |   |--- feature_8 <= 0.67\n",
            "|   |   |   |   |   |   |   |   |--- feature_9 <= 0.14\n",
            "|   |   |   |   |   |   |   |   |   |--- value: [2290.00]\n",
            "|   |   |   |   |   |   |   |   |--- feature_9 >  0.14\n",
            "|   |   |   |   |   |   |   |   |   |--- value: [2252.00]\n",
            "|   |   |   |   |   |   |   |--- feature_8 >  0.67\n",
            "|   |   |   |   |   |   |   |   |--- feature_7 <= 0.41\n",
            "|   |   |   |   |   |   |   |   |   |--- feature_7 <= 0.39\n",
            "|   |   |   |   |   |   |   |   |   |   |--- value: [1249.00]\n",
            "|   |   |   |   |   |   |   |   |   |--- feature_7 >  0.39\n",
            "|   |   |   |   |   |   |   |   |   |   |--- value: [1153.00]\n",
            "|   |   |   |   |   |   |   |   |--- feature_7 >  0.41\n",
            "|   |   |   |   |   |   |   |   |   |--- value: [1619.00]\n",
            "|   |   |   |   |   |   |--- feature_9 >  0.15\n",
            "|   |   |   |   |   |   |   |--- feature_8 <= 0.51\n",
            "|   |   |   |   |   |   |   |   |--- value: [1651.00]\n",
            "|   |   |   |   |   |   |   |--- feature_8 >  0.51\n",
            "|   |   |   |   |   |   |   |   |--- feature_9 <= 0.20\n",
            "|   |   |   |   |   |   |   |   |   |--- feature_6 <= 0.42\n",
            "|   |   |   |   |   |   |   |   |   |   |--- feature_5 <= 1.50\n",
            "|   |   |   |   |   |   |   |   |   |   |   |--- value: [1070.00]\n",
            "|   |   |   |   |   |   |   |   |   |   |--- feature_5 >  1.50\n",
            "|   |   |   |   |   |   |   |   |   |   |   |--- truncated branch of depth 2\n",
            "|   |   |   |   |   |   |   |   |   |--- feature_6 >  0.42\n",
            "|   |   |   |   |   |   |   |   |   |   |--- value: [1188.00]\n",
            "|   |   |   |   |   |   |   |   |--- feature_9 >  0.20\n",
            "|   |   |   |   |   |   |   |   |   |--- feature_2 <= 0.50\n",
            "|   |   |   |   |   |   |   |   |   |   |--- value: [665.00]\n",
            "|   |   |   |   |   |   |   |   |   |--- feature_2 >  0.50\n",
            "|   |   |   |   |   |   |   |   |   |   |--- value: [642.00]\n",
            "|   |   |   |   |   |--- feature_9 >  0.24\n",
            "|   |   |   |   |   |   |--- value: [2301.00]\n",
            "|   |   |   |--- feature_9 >  0.25\n",
            "|   |   |   |   |--- feature_5 <= 2.50\n",
            "|   |   |   |   |   |--- feature_7 <= 0.35\n",
            "|   |   |   |   |   |   |--- value: [397.00]\n",
            "|   |   |   |   |   |--- feature_7 >  0.35\n",
            "|   |   |   |   |   |   |--- feature_5 <= 1.50\n",
            "|   |   |   |   |   |   |   |--- value: [982.00]\n",
            "|   |   |   |   |   |   |--- feature_5 >  1.50\n",
            "|   |   |   |   |   |   |   |--- feature_8 <= 0.77\n",
            "|   |   |   |   |   |   |   |   |--- value: [480.00]\n",
            "|   |   |   |   |   |   |   |--- feature_8 >  0.77\n",
            "|   |   |   |   |   |   |   |   |--- value: [640.00]\n",
            "|   |   |   |   |--- feature_5 >  2.50\n",
            "|   |   |   |   |   |--- feature_8 <= 0.86\n",
            "|   |   |   |   |   |   |--- value: [120.00]\n",
            "|   |   |   |   |   |--- feature_8 >  0.86\n",
            "|   |   |   |   |   |   |--- value: [121.00]\n",
            "|   |--- feature_4 >  0.50\n",
            "|   |   |--- feature_6 <= 0.34\n",
            "|   |   |   |--- feature_1 <= 2.50\n",
            "|   |   |   |   |--- feature_7 <= 0.29\n",
            "|   |   |   |   |   |--- feature_7 <= 0.19\n",
            "|   |   |   |   |   |   |--- feature_7 <= 0.14\n",
            "|   |   |   |   |   |   |   |--- feature_3 <= 2.50\n",
            "|   |   |   |   |   |   |   |   |--- feature_7 <= 0.12\n",
            "|   |   |   |   |   |   |   |   |   |--- value: [86.00]\n",
            "|   |   |   |   |   |   |   |   |--- feature_7 >  0.12\n",
            "|   |   |   |   |   |   |   |   |   |--- value: [89.00]\n",
            "|   |   |   |   |   |   |   |--- feature_3 >  2.50\n",
            "|   |   |   |   |   |   |   |   |--- value: [95.00]\n",
            "|   |   |   |   |   |   |--- feature_7 >  0.14\n",
            "|   |   |   |   |   |   |   |--- feature_8 <= 0.46\n",
            "|   |   |   |   |   |   |   |   |--- feature_6 <= 0.18\n",
            "|   |   |   |   |   |   |   |   |   |--- value: [75.00]\n",
            "|   |   |   |   |   |   |   |   |--- feature_6 >  0.18\n",
            "|   |   |   |   |   |   |   |   |   |--- value: [61.00]\n",
            "|   |   |   |   |   |   |   |--- feature_8 >  0.46\n",
            "|   |   |   |   |   |   |   |   |--- feature_9 <= 0.30\n",
            "|   |   |   |   |   |   |   |   |   |--- feature_9 <= 0.21\n",
            "|   |   |   |   |   |   |   |   |   |   |--- feature_3 <= 2.00\n",
            "|   |   |   |   |   |   |   |   |   |   |   |--- value: [42.00]\n",
            "|   |   |   |   |   |   |   |   |   |   |--- feature_3 >  2.00\n",
            "|   |   |   |   |   |   |   |   |   |   |   |--- truncated branch of depth 2\n",
            "|   |   |   |   |   |   |   |   |   |--- feature_9 >  0.21\n",
            "|   |   |   |   |   |   |   |   |   |   |--- feature_7 <= 0.15\n",
            "|   |   |   |   |   |   |   |   |   |   |   |--- value: [38.00]\n",
            "|   |   |   |   |   |   |   |   |   |   |--- feature_7 >  0.15\n",
            "|   |   |   |   |   |   |   |   |   |   |   |--- value: [41.00]\n",
            "|   |   |   |   |   |   |   |   |--- feature_9 >  0.30\n",
            "|   |   |   |   |   |   |   |   |   |--- value: [25.00]\n",
            "|   |   |   |   |   |--- feature_7 >  0.19\n",
            "|   |   |   |   |   |   |--- feature_3 <= 4.50\n",
            "|   |   |   |   |   |   |   |--- feature_9 <= 0.26\n",
            "|   |   |   |   |   |   |   |   |--- feature_3 <= 2.50\n",
            "|   |   |   |   |   |   |   |   |   |--- feature_8 <= 0.60\n",
            "|   |   |   |   |   |   |   |   |   |   |--- feature_9 <= 0.19\n",
            "|   |   |   |   |   |   |   |   |   |   |   |--- truncated branch of depth 2\n",
            "|   |   |   |   |   |   |   |   |   |   |--- feature_9 >  0.19\n",
            "|   |   |   |   |   |   |   |   |   |   |   |--- truncated branch of depth 2\n",
            "|   |   |   |   |   |   |   |   |   |--- feature_8 >  0.60\n",
            "|   |   |   |   |   |   |   |   |   |   |--- feature_3 <= 1.50\n",
            "|   |   |   |   |   |   |   |   |   |   |   |--- truncated branch of depth 2\n",
            "|   |   |   |   |   |   |   |   |   |   |--- feature_3 >  1.50\n",
            "|   |   |   |   |   |   |   |   |   |   |   |--- value: [186.00]\n",
            "|   |   |   |   |   |   |   |   |--- feature_3 >  2.50\n",
            "|   |   |   |   |   |   |   |   |   |--- feature_8 <= 0.51\n",
            "|   |   |   |   |   |   |   |   |   |   |--- feature_6 <= 0.22\n",
            "|   |   |   |   |   |   |   |   |   |   |   |--- truncated branch of depth 2\n",
            "|   |   |   |   |   |   |   |   |   |   |--- feature_6 >  0.22\n",
            "|   |   |   |   |   |   |   |   |   |   |   |--- value: [82.00]\n",
            "|   |   |   |   |   |   |   |   |   |--- feature_8 >  0.51\n",
            "|   |   |   |   |   |   |   |   |   |   |--- feature_6 <= 0.20\n",
            "|   |   |   |   |   |   |   |   |   |   |   |--- value: [15.00]\n",
            "|   |   |   |   |   |   |   |   |   |   |--- feature_6 >  0.20\n",
            "|   |   |   |   |   |   |   |   |   |   |   |--- truncated branch of depth 4\n",
            "|   |   |   |   |   |   |   |--- feature_9 >  0.26\n",
            "|   |   |   |   |   |   |   |   |--- feature_8 <= 0.82\n",
            "|   |   |   |   |   |   |   |   |   |--- feature_5 <= 1.50\n",
            "|   |   |   |   |   |   |   |   |   |   |--- value: [64.00]\n",
            "|   |   |   |   |   |   |   |   |   |--- feature_5 >  1.50\n",
            "|   |   |   |   |   |   |   |   |   |   |--- value: [72.00]\n",
            "|   |   |   |   |   |   |   |   |--- feature_8 >  0.82\n",
            "|   |   |   |   |   |   |   |   |   |--- value: [34.00]\n",
            "|   |   |   |   |   |   |--- feature_3 >  4.50\n",
            "|   |   |   |   |   |   |   |--- feature_8 <= 0.47\n",
            "|   |   |   |   |   |   |   |   |--- value: [115.00]\n",
            "|   |   |   |   |   |   |   |--- feature_8 >  0.47\n",
            "|   |   |   |   |   |   |   |   |--- feature_7 <= 0.23\n",
            "|   |   |   |   |   |   |   |   |   |--- feature_1 <= 1.50\n",
            "|   |   |   |   |   |   |   |   |   |   |--- value: [148.00]\n",
            "|   |   |   |   |   |   |   |   |   |--- feature_1 >  1.50\n",
            "|   |   |   |   |   |   |   |   |   |   |--- value: [149.00]\n",
            "|   |   |   |   |   |   |   |   |--- feature_7 >  0.23\n",
            "|   |   |   |   |   |   |   |   |   |--- value: [174.00]\n",
            "|   |   |   |   |--- feature_7 >  0.29\n",
            "|   |   |   |   |   |--- feature_3 <= 4.50\n",
            "|   |   |   |   |   |   |--- feature_9 <= 0.15\n",
            "|   |   |   |   |   |   |   |--- feature_3 <= 3.00\n",
            "|   |   |   |   |   |   |   |   |--- value: [135.00]\n",
            "|   |   |   |   |   |   |   |--- feature_3 >  3.00\n",
            "|   |   |   |   |   |   |   |   |--- value: [74.00]\n",
            "|   |   |   |   |   |   |--- feature_9 >  0.15\n",
            "|   |   |   |   |   |   |   |--- feature_9 <= 0.23\n",
            "|   |   |   |   |   |   |   |   |--- feature_9 <= 0.17\n",
            "|   |   |   |   |   |   |   |   |   |--- value: [206.00]\n",
            "|   |   |   |   |   |   |   |   |--- feature_9 >  0.17\n",
            "|   |   |   |   |   |   |   |   |   |--- feature_7 <= 0.31\n",
            "|   |   |   |   |   |   |   |   |   |   |--- value: [163.00]\n",
            "|   |   |   |   |   |   |   |   |   |--- feature_7 >  0.31\n",
            "|   |   |   |   |   |   |   |   |   |   |--- value: [173.00]\n",
            "|   |   |   |   |   |   |   |--- feature_9 >  0.23\n",
            "|   |   |   |   |   |   |   |   |--- value: [218.00]\n",
            "|   |   |   |   |   |--- feature_3 >  4.50\n",
            "|   |   |   |   |   |   |--- feature_5 <= 1.50\n",
            "|   |   |   |   |   |   |   |--- feature_9 <= 0.17\n",
            "|   |   |   |   |   |   |   |   |--- value: [307.00]\n",
            "|   |   |   |   |   |   |   |--- feature_9 >  0.17\n",
            "|   |   |   |   |   |   |   |   |--- value: [310.00]\n",
            "|   |   |   |   |   |   |--- feature_5 >  1.50\n",
            "|   |   |   |   |   |   |   |--- value: [227.00]\n",
            "|   |   |   |--- feature_1 >  2.50\n",
            "|   |   |   |   |--- feature_9 <= 0.20\n",
            "|   |   |   |   |   |--- feature_9 <= 0.12\n",
            "|   |   |   |   |   |   |--- feature_9 <= 0.06\n",
            "|   |   |   |   |   |   |   |--- feature_9 <= 0.05\n",
            "|   |   |   |   |   |   |   |   |--- value: [337.00]\n",
            "|   |   |   |   |   |   |   |--- feature_9 >  0.05\n",
            "|   |   |   |   |   |   |   |   |--- value: [362.00]\n",
            "|   |   |   |   |   |   |--- feature_9 >  0.06\n",
            "|   |   |   |   |   |   |   |--- feature_3 <= 3.50\n",
            "|   |   |   |   |   |   |   |   |--- feature_5 <= 1.50\n",
            "|   |   |   |   |   |   |   |   |   |--- value: [143.00]\n",
            "|   |   |   |   |   |   |   |   |--- feature_5 >  1.50\n",
            "|   |   |   |   |   |   |   |   |   |--- feature_6 <= 0.27\n",
            "|   |   |   |   |   |   |   |   |   |   |--- value: [174.00]\n",
            "|   |   |   |   |   |   |   |   |   |--- feature_6 >  0.27\n",
            "|   |   |   |   |   |   |   |   |   |   |--- value: [178.00]\n",
            "|   |   |   |   |   |   |   |--- feature_3 >  3.50\n",
            "|   |   |   |   |   |   |   |   |--- feature_8 <= 0.60\n",
            "|   |   |   |   |   |   |   |   |   |--- feature_8 <= 0.56\n",
            "|   |   |   |   |   |   |   |   |   |   |--- value: [243.00]\n",
            "|   |   |   |   |   |   |   |   |   |--- feature_8 >  0.56\n",
            "|   |   |   |   |   |   |   |   |   |   |--- value: [254.00]\n",
            "|   |   |   |   |   |   |   |   |--- feature_8 >  0.60\n",
            "|   |   |   |   |   |   |   |   |   |--- feature_8 <= 0.66\n",
            "|   |   |   |   |   |   |   |   |   |   |--- value: [268.00]\n",
            "|   |   |   |   |   |   |   |   |   |--- feature_8 >  0.66\n",
            "|   |   |   |   |   |   |   |   |   |   |--- value: [261.00]\n",
            "|   |   |   |   |   |--- feature_9 >  0.12\n",
            "|   |   |   |   |   |   |--- feature_8 <= 0.64\n",
            "|   |   |   |   |   |   |   |--- feature_8 <= 0.45\n",
            "|   |   |   |   |   |   |   |   |--- feature_7 <= 0.29\n",
            "|   |   |   |   |   |   |   |   |   |--- value: [245.00]\n",
            "|   |   |   |   |   |   |   |   |--- feature_7 >  0.29\n",
            "|   |   |   |   |   |   |   |   |   |--- value: [316.00]\n",
            "|   |   |   |   |   |   |   |--- feature_8 >  0.45\n",
            "|   |   |   |   |   |   |   |   |--- feature_3 <= 4.50\n",
            "|   |   |   |   |   |   |   |   |   |--- feature_7 <= 0.30\n",
            "|   |   |   |   |   |   |   |   |   |   |--- feature_9 <= 0.17\n",
            "|   |   |   |   |   |   |   |   |   |   |   |--- truncated branch of depth 3\n",
            "|   |   |   |   |   |   |   |   |   |   |--- feature_9 >  0.17\n",
            "|   |   |   |   |   |   |   |   |   |   |   |--- truncated branch of depth 2\n",
            "|   |   |   |   |   |   |   |   |   |--- feature_7 >  0.30\n",
            "|   |   |   |   |   |   |   |   |   |   |--- feature_3 <= 2.00\n",
            "|   |   |   |   |   |   |   |   |   |   |   |--- value: [359.00]\n",
            "|   |   |   |   |   |   |   |   |   |   |--- feature_3 >  2.00\n",
            "|   |   |   |   |   |   |   |   |   |   |   |--- truncated branch of depth 3\n",
            "|   |   |   |   |   |   |   |   |--- feature_3 >  4.50\n",
            "|   |   |   |   |   |   |   |   |   |--- feature_7 <= 0.31\n",
            "|   |   |   |   |   |   |   |   |   |   |--- value: [429.00]\n",
            "|   |   |   |   |   |   |   |   |   |--- feature_7 >  0.31\n",
            "|   |   |   |   |   |   |   |   |   |   |--- value: [491.00]\n",
            "|   |   |   |   |   |   |--- feature_8 >  0.64\n",
            "|   |   |   |   |   |   |   |--- feature_6 <= 0.31\n",
            "|   |   |   |   |   |   |   |   |--- value: [168.00]\n",
            "|   |   |   |   |   |   |   |--- feature_6 >  0.31\n",
            "|   |   |   |   |   |   |   |   |--- feature_3 <= 4.50\n",
            "|   |   |   |   |   |   |   |   |   |--- feature_1 <= 7.50\n",
            "|   |   |   |   |   |   |   |   |   |   |--- value: [289.00]\n",
            "|   |   |   |   |   |   |   |   |   |--- feature_1 >  7.50\n",
            "|   |   |   |   |   |   |   |   |   |   |--- value: [314.00]\n",
            "|   |   |   |   |   |   |   |   |--- feature_3 >  4.50\n",
            "|   |   |   |   |   |   |   |   |   |--- value: [349.00]\n",
            "|   |   |   |   |--- feature_9 >  0.20\n",
            "|   |   |   |   |   |--- feature_8 <= 0.78\n",
            "|   |   |   |   |   |   |--- feature_9 <= 0.23\n",
            "|   |   |   |   |   |   |   |--- feature_9 <= 0.21\n",
            "|   |   |   |   |   |   |   |   |--- feature_6 <= 0.28\n",
            "|   |   |   |   |   |   |   |   |   |--- feature_0 <= 1.50\n",
            "|   |   |   |   |   |   |   |   |   |   |--- value: [221.00]\n",
            "|   |   |   |   |   |   |   |   |   |--- feature_0 >  1.50\n",
            "|   |   |   |   |   |   |   |   |   |   |--- value: [222.00]\n",
            "|   |   |   |   |   |   |   |   |--- feature_6 >  0.28\n",
            "|   |   |   |   |   |   |   |   |   |--- value: [198.00]\n",
            "|   |   |   |   |   |   |   |--- feature_9 >  0.21\n",
            "|   |   |   |   |   |   |   |   |--- feature_6 <= 0.28\n",
            "|   |   |   |   |   |   |   |   |   |--- feature_7 <= 0.23\n",
            "|   |   |   |   |   |   |   |   |   |   |--- value: [123.00]\n",
            "|   |   |   |   |   |   |   |   |   |--- feature_7 >  0.23\n",
            "|   |   |   |   |   |   |   |   |   |   |--- value: [137.00]\n",
            "|   |   |   |   |   |   |   |   |--- feature_6 >  0.28\n",
            "|   |   |   |   |   |   |   |   |   |--- feature_9 <= 0.22\n",
            "|   |   |   |   |   |   |   |   |   |   |--- value: [177.00]\n",
            "|   |   |   |   |   |   |   |   |   |--- feature_9 >  0.22\n",
            "|   |   |   |   |   |   |   |   |   |   |--- value: [191.00]\n",
            "|   |   |   |   |   |   |--- feature_9 >  0.23\n",
            "|   |   |   |   |   |   |   |--- feature_3 <= 4.50\n",
            "|   |   |   |   |   |   |   |   |--- feature_8 <= 0.56\n",
            "|   |   |   |   |   |   |   |   |   |--- feature_0 <= 1.50\n",
            "|   |   |   |   |   |   |   |   |   |   |--- feature_9 <= 0.26\n",
            "|   |   |   |   |   |   |   |   |   |   |   |--- value: [203.00]\n",
            "|   |   |   |   |   |   |   |   |   |   |--- feature_9 >  0.26\n",
            "|   |   |   |   |   |   |   |   |   |   |   |--- truncated branch of depth 3\n",
            "|   |   |   |   |   |   |   |   |   |--- feature_0 >  1.50\n",
            "|   |   |   |   |   |   |   |   |   |   |--- feature_8 <= 0.43\n",
            "|   |   |   |   |   |   |   |   |   |   |   |--- value: [317.00]\n",
            "|   |   |   |   |   |   |   |   |   |   |--- feature_8 >  0.43\n",
            "|   |   |   |   |   |   |   |   |   |   |   |--- value: [326.00]\n",
            "|   |   |   |   |   |   |   |   |--- feature_8 >  0.56\n",
            "|   |   |   |   |   |   |   |   |   |--- feature_0 <= 3.00\n",
            "|   |   |   |   |   |   |   |   |   |   |--- feature_0 <= 1.50\n",
            "|   |   |   |   |   |   |   |   |   |   |   |--- value: [247.00]\n",
            "|   |   |   |   |   |   |   |   |   |   |--- feature_0 >  1.50\n",
            "|   |   |   |   |   |   |   |   |   |   |   |--- value: [195.00]\n",
            "|   |   |   |   |   |   |   |   |   |--- feature_0 >  3.00\n",
            "|   |   |   |   |   |   |   |   |   |   |--- feature_8 <= 0.58\n",
            "|   |   |   |   |   |   |   |   |   |   |   |--- value: [139.00]\n",
            "|   |   |   |   |   |   |   |   |   |   |--- feature_8 >  0.58\n",
            "|   |   |   |   |   |   |   |   |   |   |   |--- value: [150.00]\n",
            "|   |   |   |   |   |   |   |--- feature_3 >  4.50\n",
            "|   |   |   |   |   |   |   |   |--- feature_1 <= 7.00\n",
            "|   |   |   |   |   |   |   |   |   |--- feature_6 <= 0.31\n",
            "|   |   |   |   |   |   |   |   |   |   |--- feature_6 <= 0.28\n",
            "|   |   |   |   |   |   |   |   |   |   |   |--- value: [300.00]\n",
            "|   |   |   |   |   |   |   |   |   |   |--- feature_6 >  0.28\n",
            "|   |   |   |   |   |   |   |   |   |   |   |--- value: [307.00]\n",
            "|   |   |   |   |   |   |   |   |   |--- feature_6 >  0.31\n",
            "|   |   |   |   |   |   |   |   |   |   |--- value: [247.00]\n",
            "|   |   |   |   |   |   |   |   |--- feature_1 >  7.00\n",
            "|   |   |   |   |   |   |   |   |   |--- value: [456.00]\n",
            "|   |   |   |   |   |--- feature_8 >  0.78\n",
            "|   |   |   |   |   |   |--- feature_7 <= 0.24\n",
            "|   |   |   |   |   |   |   |--- value: [9.00]\n",
            "|   |   |   |   |   |   |--- feature_7 >  0.24\n",
            "|   |   |   |   |   |   |   |--- feature_3 <= 3.00\n",
            "|   |   |   |   |   |   |   |   |--- feature_8 <= 0.81\n",
            "|   |   |   |   |   |   |   |   |   |--- value: [123.00]\n",
            "|   |   |   |   |   |   |   |   |--- feature_8 >  0.81\n",
            "|   |   |   |   |   |   |   |   |   |--- value: [87.00]\n",
            "|   |   |   |   |   |   |   |--- feature_3 >  3.00\n",
            "|   |   |   |   |   |   |   |   |--- feature_7 <= 0.26\n",
            "|   |   |   |   |   |   |   |   |   |--- value: [179.00]\n",
            "|   |   |   |   |   |   |   |   |--- feature_7 >  0.26\n",
            "|   |   |   |   |   |   |   |   |   |--- value: [166.00]\n",
            "|   |   |--- feature_6 >  0.34\n",
            "|   |   |   |--- feature_3 <= 4.50\n",
            "|   |   |   |   |--- feature_8 <= 0.48\n",
            "|   |   |   |   |   |--- feature_7 <= 0.42\n",
            "|   |   |   |   |   |   |--- feature_8 <= 0.44\n",
            "|   |   |   |   |   |   |   |--- feature_6 <= 0.40\n",
            "|   |   |   |   |   |   |   |   |--- feature_9 <= 0.23\n",
            "|   |   |   |   |   |   |   |   |   |--- value: [229.00]\n",
            "|   |   |   |   |   |   |   |   |--- feature_9 >  0.23\n",
            "|   |   |   |   |   |   |   |   |   |--- feature_9 <= 0.30\n",
            "|   |   |   |   |   |   |   |   |   |   |--- value: [324.00]\n",
            "|   |   |   |   |   |   |   |   |   |--- feature_9 >  0.30\n",
            "|   |   |   |   |   |   |   |   |   |   |--- value: [340.00]\n",
            "|   |   |   |   |   |   |   |--- feature_6 >  0.40\n",
            "|   |   |   |   |   |   |   |   |--- value: [208.00]\n",
            "|   |   |   |   |   |   |--- feature_8 >  0.44\n",
            "|   |   |   |   |   |   |   |--- feature_3 <= 3.50\n",
            "|   |   |   |   |   |   |   |   |--- feature_8 <= 0.47\n",
            "|   |   |   |   |   |   |   |   |   |--- feature_7 <= 0.37\n",
            "|   |   |   |   |   |   |   |   |   |   |--- value: [482.00]\n",
            "|   |   |   |   |   |   |   |   |   |--- feature_7 >  0.37\n",
            "|   |   |   |   |   |   |   |   |   |   |--- value: [518.00]\n",
            "|   |   |   |   |   |   |   |   |--- feature_8 >  0.47\n",
            "|   |   |   |   |   |   |   |   |   |--- value: [413.00]\n",
            "|   |   |   |   |   |   |   |--- feature_3 >  3.50\n",
            "|   |   |   |   |   |   |   |   |--- value: [663.00]\n",
            "|   |   |   |   |   |--- feature_7 >  0.42\n",
            "|   |   |   |   |   |   |--- feature_7 <= 0.43\n",
            "|   |   |   |   |   |   |   |--- value: [1192.00]\n",
            "|   |   |   |   |   |   |--- feature_7 >  0.43\n",
            "|   |   |   |   |   |   |   |--- feature_7 <= 0.44\n",
            "|   |   |   |   |   |   |   |   |--- feature_8 <= 0.45\n",
            "|   |   |   |   |   |   |   |   |   |--- value: [819.00]\n",
            "|   |   |   |   |   |   |   |   |--- feature_8 >  0.45\n",
            "|   |   |   |   |   |   |   |   |   |--- value: [834.00]\n",
            "|   |   |   |   |   |   |   |--- feature_7 >  0.44\n",
            "|   |   |   |   |   |   |   |   |--- value: [795.00]\n",
            "|   |   |   |   |--- feature_8 >  0.48\n",
            "|   |   |   |   |   |--- feature_5 <= 1.50\n",
            "|   |   |   |   |   |   |--- feature_8 <= 0.55\n",
            "|   |   |   |   |   |   |   |--- feature_9 <= 0.30\n",
            "|   |   |   |   |   |   |   |   |--- feature_6 <= 0.36\n",
            "|   |   |   |   |   |   |   |   |   |--- feature_6 <= 0.35\n",
            "|   |   |   |   |   |   |   |   |   |   |--- value: [141.00]\n",
            "|   |   |   |   |   |   |   |   |   |--- feature_6 >  0.35\n",
            "|   |   |   |   |   |   |   |   |   |   |--- value: [199.00]\n",
            "|   |   |   |   |   |   |   |   |--- feature_6 >  0.36\n",
            "|   |   |   |   |   |   |   |   |   |--- feature_6 <= 0.40\n",
            "|   |   |   |   |   |   |   |   |   |   |--- value: [253.00]\n",
            "|   |   |   |   |   |   |   |   |   |--- feature_6 >  0.40\n",
            "|   |   |   |   |   |   |   |   |   |   |--- value: [259.00]\n",
            "|   |   |   |   |   |   |   |--- feature_9 >  0.30\n",
            "|   |   |   |   |   |   |   |   |--- feature_7 <= 0.41\n",
            "|   |   |   |   |   |   |   |   |   |--- value: [432.00]\n",
            "|   |   |   |   |   |   |   |   |--- feature_7 >  0.41\n",
            "|   |   |   |   |   |   |   |   |   |--- value: [331.00]\n",
            "|   |   |   |   |   |   |--- feature_8 >  0.55\n",
            "|   |   |   |   |   |   |   |--- feature_8 <= 0.65\n",
            "|   |   |   |   |   |   |   |   |--- feature_1 <= 3.50\n",
            "|   |   |   |   |   |   |   |   |   |--- feature_7 <= 0.42\n",
            "|   |   |   |   |   |   |   |   |   |   |--- value: [394.00]\n",
            "|   |   |   |   |   |   |   |   |   |--- feature_7 >  0.42\n",
            "|   |   |   |   |   |   |   |   |   |   |--- value: [460.00]\n",
            "|   |   |   |   |   |   |   |   |--- feature_1 >  3.50\n",
            "|   |   |   |   |   |   |   |   |   |--- feature_3 <= 3.50\n",
            "|   |   |   |   |   |   |   |   |   |   |--- value: [615.00]\n",
            "|   |   |   |   |   |   |   |   |   |--- feature_3 >  3.50\n",
            "|   |   |   |   |   |   |   |   |   |   |--- value: [571.00]\n",
            "|   |   |   |   |   |   |   |--- feature_8 >  0.65\n",
            "|   |   |   |   |   |   |   |   |--- feature_9 <= 0.10\n",
            "|   |   |   |   |   |   |   |   |   |--- feature_9 <= 0.07\n",
            "|   |   |   |   |   |   |   |   |   |   |--- value: [305.00]\n",
            "|   |   |   |   |   |   |   |   |   |--- feature_9 >  0.07\n",
            "|   |   |   |   |   |   |   |   |   |   |--- feature_8 <= 0.72\n",
            "|   |   |   |   |   |   |   |   |   |   |   |--- value: [370.00]\n",
            "|   |   |   |   |   |   |   |   |   |   |--- feature_8 >  0.72\n",
            "|   |   |   |   |   |   |   |   |   |   |   |--- value: [376.00]\n",
            "|   |   |   |   |   |   |   |   |--- feature_9 >  0.10\n",
            "|   |   |   |   |   |   |   |   |   |--- feature_0 <= 2.50\n",
            "|   |   |   |   |   |   |   |   |   |   |--- value: [439.00]\n",
            "|   |   |   |   |   |   |   |   |   |--- feature_0 >  2.50\n",
            "|   |   |   |   |   |   |   |   |   |   |--- feature_7 <= 0.40\n",
            "|   |   |   |   |   |   |   |   |   |   |   |--- value: [410.00]\n",
            "|   |   |   |   |   |   |   |   |   |   |--- feature_7 >  0.40\n",
            "|   |   |   |   |   |   |   |   |   |   |   |--- value: [433.00]\n",
            "|   |   |   |   |   |--- feature_5 >  1.50\n",
            "|   |   |   |   |   |   |--- feature_7 <= 0.39\n",
            "|   |   |   |   |   |   |   |--- feature_9 <= 0.17\n",
            "|   |   |   |   |   |   |   |   |--- feature_6 <= 0.38\n",
            "|   |   |   |   |   |   |   |   |   |--- feature_6 <= 0.37\n",
            "|   |   |   |   |   |   |   |   |   |   |--- value: [466.00]\n",
            "|   |   |   |   |   |   |   |   |   |--- feature_6 >  0.37\n",
            "|   |   |   |   |   |   |   |   |   |   |--- value: [534.00]\n",
            "|   |   |   |   |   |   |   |   |--- feature_6 >  0.38\n",
            "|   |   |   |   |   |   |   |   |   |--- value: [330.00]\n",
            "|   |   |   |   |   |   |   |--- feature_9 >  0.17\n",
            "|   |   |   |   |   |   |   |   |--- feature_9 <= 0.35\n",
            "|   |   |   |   |   |   |   |   |   |--- feature_8 <= 0.82\n",
            "|   |   |   |   |   |   |   |   |   |   |--- feature_7 <= 0.37\n",
            "|   |   |   |   |   |   |   |   |   |   |   |--- truncated branch of depth 3\n",
            "|   |   |   |   |   |   |   |   |   |   |--- feature_7 >  0.37\n",
            "|   |   |   |   |   |   |   |   |   |   |   |--- value: [269.00]\n",
            "|   |   |   |   |   |   |   |   |   |--- feature_8 >  0.82\n",
            "|   |   |   |   |   |   |   |   |   |   |--- value: [203.00]\n",
            "|   |   |   |   |   |   |   |   |--- feature_9 >  0.35\n",
            "|   |   |   |   |   |   |   |   |   |--- value: [127.00]\n",
            "|   |   |   |   |   |   |--- feature_7 >  0.39\n",
            "|   |   |   |   |   |   |   |--- feature_9 <= 0.26\n",
            "|   |   |   |   |   |   |   |   |--- feature_1 <= 3.00\n",
            "|   |   |   |   |   |   |   |   |   |--- value: [190.00]\n",
            "|   |   |   |   |   |   |   |   |--- feature_1 >  3.00\n",
            "|   |   |   |   |   |   |   |   |   |--- feature_7 <= 0.40\n",
            "|   |   |   |   |   |   |   |   |   |   |--- value: [233.00]\n",
            "|   |   |   |   |   |   |   |   |   |--- feature_7 >  0.40\n",
            "|   |   |   |   |   |   |   |   |   |   |--- feature_7 <= 0.42\n",
            "|   |   |   |   |   |   |   |   |   |   |   |--- truncated branch of depth 3\n",
            "|   |   |   |   |   |   |   |   |   |   |--- feature_7 >  0.42\n",
            "|   |   |   |   |   |   |   |   |   |   |   |--- truncated branch of depth 2\n",
            "|   |   |   |   |   |   |   |--- feature_9 >  0.26\n",
            "|   |   |   |   |   |   |   |   |--- feature_8 <= 0.75\n",
            "|   |   |   |   |   |   |   |   |   |--- feature_8 <= 0.69\n",
            "|   |   |   |   |   |   |   |   |   |   |--- feature_1 <= 8.00\n",
            "|   |   |   |   |   |   |   |   |   |   |   |--- value: [167.00]\n",
            "|   |   |   |   |   |   |   |   |   |   |--- feature_1 >  8.00\n",
            "|   |   |   |   |   |   |   |   |   |   |   |--- value: [181.00]\n",
            "|   |   |   |   |   |   |   |   |   |--- feature_8 >  0.69\n",
            "|   |   |   |   |   |   |   |   |   |   |--- value: [255.00]\n",
            "|   |   |   |   |   |   |   |   |--- feature_8 >  0.75\n",
            "|   |   |   |   |   |   |   |   |   |--- feature_5 <= 2.50\n",
            "|   |   |   |   |   |   |   |   |   |   |--- feature_3 <= 2.00\n",
            "|   |   |   |   |   |   |   |   |   |   |   |--- value: [81.00]\n",
            "|   |   |   |   |   |   |   |   |   |   |--- feature_3 >  2.00\n",
            "|   |   |   |   |   |   |   |   |   |   |   |--- value: [112.00]\n",
            "|   |   |   |   |   |   |   |   |   |--- feature_5 >  2.50\n",
            "|   |   |   |   |   |   |   |   |   |   |--- feature_7 <= 0.42\n",
            "|   |   |   |   |   |   |   |   |   |   |   |--- value: [50.00]\n",
            "|   |   |   |   |   |   |   |   |   |   |--- feature_7 >  0.42\n",
            "|   |   |   |   |   |   |   |   |   |   |   |--- value: [2.00]\n",
            "|   |   |   |--- feature_3 >  4.50\n",
            "|   |   |   |   |--- feature_8 <= 0.39\n",
            "|   |   |   |   |   |--- value: [1807.00]\n",
            "|   |   |   |   |--- feature_8 >  0.39\n",
            "|   |   |   |   |   |--- feature_5 <= 1.50\n",
            "|   |   |   |   |   |   |--- feature_6 <= 0.37\n",
            "|   |   |   |   |   |   |   |--- feature_9 <= 0.19\n",
            "|   |   |   |   |   |   |   |   |--- value: [484.00]\n",
            "|   |   |   |   |   |   |   |--- feature_9 >  0.19\n",
            "|   |   |   |   |   |   |   |   |--- feature_9 <= 0.24\n",
            "|   |   |   |   |   |   |   |   |   |--- value: [709.00]\n",
            "|   |   |   |   |   |   |   |   |--- feature_9 >  0.24\n",
            "|   |   |   |   |   |   |   |   |   |--- value: [618.00]\n",
            "|   |   |   |   |   |   |--- feature_6 >  0.37\n",
            "|   |   |   |   |   |   |   |--- feature_6 <= 0.37\n",
            "|   |   |   |   |   |   |   |   |--- value: [1603.00]\n",
            "|   |   |   |   |   |   |   |--- feature_6 >  0.37\n",
            "|   |   |   |   |   |   |   |   |--- value: [1095.00]\n",
            "|   |   |   |   |   |--- feature_5 >  1.50\n",
            "|   |   |   |   |   |   |--- feature_7 <= 0.37\n",
            "|   |   |   |   |   |   |   |--- feature_6 <= 0.36\n",
            "|   |   |   |   |   |   |   |   |--- value: [246.00]\n",
            "|   |   |   |   |   |   |   |--- feature_6 >  0.36\n",
            "|   |   |   |   |   |   |   |   |--- value: [178.00]\n",
            "|   |   |   |   |   |   |--- feature_7 >  0.37\n",
            "|   |   |   |   |   |   |   |--- feature_7 <= 0.39\n",
            "|   |   |   |   |   |   |   |   |--- value: [796.00]\n",
            "|   |   |   |   |   |   |   |--- feature_7 >  0.39\n",
            "|   |   |   |   |   |   |   |   |--- feature_6 <= 0.42\n",
            "|   |   |   |   |   |   |   |   |   |--- feature_6 <= 0.41\n",
            "|   |   |   |   |   |   |   |   |   |   |--- value: [470.00]\n",
            "|   |   |   |   |   |   |   |   |   |--- feature_6 >  0.41\n",
            "|   |   |   |   |   |   |   |   |   |   |--- value: [447.00]\n",
            "|   |   |   |   |   |   |   |   |--- feature_6 >  0.42\n",
            "|   |   |   |   |   |   |   |   |   |--- value: [548.00]\n",
            "|--- feature_6 >  0.45\n",
            "|   |--- feature_4 <= 0.50\n",
            "|   |   |--- feature_8 <= 0.83\n",
            "|   |   |   |--- feature_1 <= 10.50\n",
            "|   |   |   |   |--- feature_9 <= 0.28\n",
            "|   |   |   |   |   |--- feature_7 <= 0.77\n",
            "|   |   |   |   |   |   |--- feature_8 <= 0.67\n",
            "|   |   |   |   |   |   |   |--- feature_9 <= 0.09\n",
            "|   |   |   |   |   |   |   |   |--- value: [3065.00]\n",
            "|   |   |   |   |   |   |   |--- feature_9 >  0.09\n",
            "|   |   |   |   |   |   |   |   |--- feature_8 <= 0.66\n",
            "|   |   |   |   |   |   |   |   |   |--- feature_9 <= 0.15\n",
            "|   |   |   |   |   |   |   |   |   |   |--- feature_9 <= 0.14\n",
            "|   |   |   |   |   |   |   |   |   |   |   |--- truncated branch of depth 8\n",
            "|   |   |   |   |   |   |   |   |   |   |--- feature_9 >  0.14\n",
            "|   |   |   |   |   |   |   |   |   |   |   |--- truncated branch of depth 3\n",
            "|   |   |   |   |   |   |   |   |   |--- feature_9 >  0.15\n",
            "|   |   |   |   |   |   |   |   |   |   |--- feature_9 <= 0.16\n",
            "|   |   |   |   |   |   |   |   |   |   |   |--- truncated branch of depth 4\n",
            "|   |   |   |   |   |   |   |   |   |   |--- feature_9 >  0.16\n",
            "|   |   |   |   |   |   |   |   |   |   |   |--- truncated branch of depth 10\n",
            "|   |   |   |   |   |   |   |   |--- feature_8 >  0.66\n",
            "|   |   |   |   |   |   |   |   |   |--- value: [3031.00]\n",
            "|   |   |   |   |   |   |--- feature_8 >  0.67\n",
            "|   |   |   |   |   |   |   |--- feature_7 <= 0.67\n",
            "|   |   |   |   |   |   |   |   |--- feature_7 <= 0.50\n",
            "|   |   |   |   |   |   |   |   |   |--- feature_1 <= 4.00\n",
            "|   |   |   |   |   |   |   |   |   |   |--- value: [2207.00]\n",
            "|   |   |   |   |   |   |   |   |   |--- feature_1 >  4.00\n",
            "|   |   |   |   |   |   |   |   |   |   |--- feature_7 <= 0.46\n",
            "|   |   |   |   |   |   |   |   |   |   |   |--- value: [1138.00]\n",
            "|   |   |   |   |   |   |   |   |   |   |--- feature_7 >  0.46\n",
            "|   |   |   |   |   |   |   |   |   |   |   |--- truncated branch of depth 2\n",
            "|   |   |   |   |   |   |   |   |--- feature_7 >  0.50\n",
            "|   |   |   |   |   |   |   |   |   |--- feature_6 <= 0.52\n",
            "|   |   |   |   |   |   |   |   |   |   |--- value: [3155.00]\n",
            "|   |   |   |   |   |   |   |   |   |--- feature_6 >  0.52\n",
            "|   |   |   |   |   |   |   |   |   |   |--- feature_6 <= 0.69\n",
            "|   |   |   |   |   |   |   |   |   |   |   |--- truncated branch of depth 7\n",
            "|   |   |   |   |   |   |   |   |   |   |--- feature_6 >  0.69\n",
            "|   |   |   |   |   |   |   |   |   |   |   |--- truncated branch of depth 6\n",
            "|   |   |   |   |   |   |   |--- feature_7 >  0.67\n",
            "|   |   |   |   |   |   |   |   |--- feature_6 <= 0.74\n",
            "|   |   |   |   |   |   |   |   |   |--- feature_3 <= 0.50\n",
            "|   |   |   |   |   |   |   |   |   |   |--- feature_7 <= 0.70\n",
            "|   |   |   |   |   |   |   |   |   |   |   |--- value: [1249.00]\n",
            "|   |   |   |   |   |   |   |   |   |   |--- feature_7 >  0.70\n",
            "|   |   |   |   |   |   |   |   |   |   |   |--- value: [1298.00]\n",
            "|   |   |   |   |   |   |   |   |   |--- feature_3 >  0.50\n",
            "|   |   |   |   |   |   |   |   |   |   |--- feature_5 <= 1.50\n",
            "|   |   |   |   |   |   |   |   |   |   |   |--- value: [1549.00]\n",
            "|   |   |   |   |   |   |   |   |   |   |--- feature_5 >  1.50\n",
            "|   |   |   |   |   |   |   |   |   |   |   |--- value: [1521.00]\n",
            "|   |   |   |   |   |   |   |   |--- feature_6 >  0.74\n",
            "|   |   |   |   |   |   |   |   |   |--- value: [1920.00]\n",
            "|   |   |   |   |   |--- feature_7 >  0.77\n",
            "|   |   |   |   |   |   |--- feature_9 <= 0.13\n",
            "|   |   |   |   |   |   |   |--- value: [1203.00]\n",
            "|   |   |   |   |   |   |--- feature_9 >  0.13\n",
            "|   |   |   |   |   |   |   |--- value: [987.00]\n",
            "|   |   |   |   |--- feature_9 >  0.28\n",
            "|   |   |   |   |   |--- feature_8 <= 0.52\n",
            "|   |   |   |   |   |   |--- value: [1558.00]\n",
            "|   |   |   |   |   |--- feature_8 >  0.52\n",
            "|   |   |   |   |   |   |--- feature_6 <= 0.57\n",
            "|   |   |   |   |   |   |   |--- value: [998.00]\n",
            "|   |   |   |   |   |   |--- feature_6 >  0.57\n",
            "|   |   |   |   |   |   |   |--- value: [1198.00]\n",
            "|   |   |   |--- feature_1 >  10.50\n",
            "|   |   |   |   |--- feature_6 <= 0.47\n",
            "|   |   |   |   |   |--- value: [787.00]\n",
            "|   |   |   |   |--- feature_6 >  0.47\n",
            "|   |   |   |   |   |--- value: [1097.00]\n",
            "|   |   |--- feature_8 >  0.83\n",
            "|   |   |   |--- feature_9 <= 0.30\n",
            "|   |   |   |   |--- feature_6 <= 0.54\n",
            "|   |   |   |   |   |--- feature_9 <= 0.21\n",
            "|   |   |   |   |   |   |--- feature_9 <= 0.16\n",
            "|   |   |   |   |   |   |   |--- value: [902.00]\n",
            "|   |   |   |   |   |   |--- feature_9 >  0.16\n",
            "|   |   |   |   |   |   |   |--- value: [1033.00]\n",
            "|   |   |   |   |   |--- feature_9 >  0.21\n",
            "|   |   |   |   |   |   |--- value: [1462.00]\n",
            "|   |   |   |   |--- feature_6 >  0.54\n",
            "|   |   |   |   |   |--- feature_1 <= 6.50\n",
            "|   |   |   |   |   |   |--- value: [1582.00]\n",
            "|   |   |   |   |   |--- feature_1 >  6.50\n",
            "|   |   |   |   |   |   |--- value: [1483.00]\n",
            "|   |   |   |--- feature_9 >  0.30\n",
            "|   |   |   |   |--- value: [226.00]\n",
            "|   |--- feature_4 >  0.50\n",
            "|   |   |--- feature_8 <= 0.83\n",
            "|   |   |   |--- feature_3 <= 4.50\n",
            "|   |   |   |   |--- feature_7 <= 0.53\n",
            "|   |   |   |   |   |--- feature_9 <= 0.10\n",
            "|   |   |   |   |   |   |--- feature_7 <= 0.47\n",
            "|   |   |   |   |   |   |   |--- value: [1348.00]\n",
            "|   |   |   |   |   |   |--- feature_7 >  0.47\n",
            "|   |   |   |   |   |   |   |--- feature_1 <= 3.50\n",
            "|   |   |   |   |   |   |   |   |--- value: [1122.00]\n",
            "|   |   |   |   |   |   |   |--- feature_1 >  3.50\n",
            "|   |   |   |   |   |   |   |   |--- feature_9 <= 0.09\n",
            "|   |   |   |   |   |   |   |   |   |--- feature_6 <= 0.49\n",
            "|   |   |   |   |   |   |   |   |   |   |--- value: [830.00]\n",
            "|   |   |   |   |   |   |   |   |   |--- feature_6 >  0.49\n",
            "|   |   |   |   |   |   |   |   |   |   |--- value: [846.00]\n",
            "|   |   |   |   |   |   |   |   |--- feature_9 >  0.09\n",
            "|   |   |   |   |   |   |   |   |   |--- value: [763.00]\n",
            "|   |   |   |   |   |--- feature_9 >  0.10\n",
            "|   |   |   |   |   |   |--- feature_9 <= 0.23\n",
            "|   |   |   |   |   |   |   |--- feature_3 <= 2.50\n",
            "|   |   |   |   |   |   |   |   |--- feature_8 <= 0.64\n",
            "|   |   |   |   |   |   |   |   |   |--- feature_9 <= 0.18\n",
            "|   |   |   |   |   |   |   |   |   |   |--- feature_0 <= 3.00\n",
            "|   |   |   |   |   |   |   |   |   |   |   |--- truncated branch of depth 3\n",
            "|   |   |   |   |   |   |   |   |   |   |--- feature_0 >  3.00\n",
            "|   |   |   |   |   |   |   |   |   |   |   |--- truncated branch of depth 2\n",
            "|   |   |   |   |   |   |   |   |   |--- feature_9 >  0.18\n",
            "|   |   |   |   |   |   |   |   |   |   |--- feature_9 <= 0.19\n",
            "|   |   |   |   |   |   |   |   |   |   |   |--- value: [922.00]\n",
            "|   |   |   |   |   |   |   |   |   |   |--- feature_9 >  0.19\n",
            "|   |   |   |   |   |   |   |   |   |   |   |--- value: [838.00]\n",
            "|   |   |   |   |   |   |   |   |--- feature_8 >  0.64\n",
            "|   |   |   |   |   |   |   |   |   |--- feature_9 <= 0.14\n",
            "|   |   |   |   |   |   |   |   |   |   |--- feature_6 <= 0.50\n",
            "|   |   |   |   |   |   |   |   |   |   |   |--- value: [699.00]\n",
            "|   |   |   |   |   |   |   |   |   |   |--- feature_6 >  0.50\n",
            "|   |   |   |   |   |   |   |   |   |   |   |--- value: [637.00]\n",
            "|   |   |   |   |   |   |   |   |   |--- feature_9 >  0.14\n",
            "|   |   |   |   |   |   |   |   |   |   |--- feature_1 <= 7.00\n",
            "|   |   |   |   |   |   |   |   |   |   |   |--- value: [409.00]\n",
            "|   |   |   |   |   |   |   |   |   |   |--- feature_1 >  7.00\n",
            "|   |   |   |   |   |   |   |   |   |   |   |--- value: [486.00]\n",
            "|   |   |   |   |   |   |   |--- feature_3 >  2.50\n",
            "|   |   |   |   |   |   |   |   |--- feature_7 <= 0.50\n",
            "|   |   |   |   |   |   |   |   |   |--- feature_9 <= 0.13\n",
            "|   |   |   |   |   |   |   |   |   |   |--- value: [655.00]\n",
            "|   |   |   |   |   |   |   |   |   |--- feature_9 >  0.13\n",
            "|   |   |   |   |   |   |   |   |   |   |--- feature_7 <= 0.45\n",
            "|   |   |   |   |   |   |   |   |   |   |   |--- value: [516.00]\n",
            "|   |   |   |   |   |   |   |   |   |   |--- feature_7 >  0.45\n",
            "|   |   |   |   |   |   |   |   |   |   |   |--- truncated branch of depth 4\n",
            "|   |   |   |   |   |   |   |   |--- feature_7 >  0.50\n",
            "|   |   |   |   |   |   |   |   |   |--- feature_6 <= 0.54\n",
            "|   |   |   |   |   |   |   |   |   |   |--- feature_9 <= 0.15\n",
            "|   |   |   |   |   |   |   |   |   |   |   |--- value: [735.00]\n",
            "|   |   |   |   |   |   |   |   |   |   |--- feature_9 >  0.15\n",
            "|   |   |   |   |   |   |   |   |   |   |   |--- value: [695.00]\n",
            "|   |   |   |   |   |   |   |   |   |--- feature_6 >  0.54\n",
            "|   |   |   |   |   |   |   |   |   |   |--- feature_6 <= 0.54\n",
            "|   |   |   |   |   |   |   |   |   |   |   |--- value: [559.00]\n",
            "|   |   |   |   |   |   |   |   |   |   |--- feature_6 >  0.54\n",
            "|   |   |   |   |   |   |   |   |   |   |   |--- value: [550.00]\n",
            "|   |   |   |   |   |   |--- feature_9 >  0.23\n",
            "|   |   |   |   |   |   |   |--- feature_6 <= 0.48\n",
            "|   |   |   |   |   |   |   |   |--- feature_7 <= 0.46\n",
            "|   |   |   |   |   |   |   |   |   |--- feature_1 <= 4.50\n",
            "|   |   |   |   |   |   |   |   |   |   |--- value: [745.00]\n",
            "|   |   |   |   |   |   |   |   |   |--- feature_1 >  4.50\n",
            "|   |   |   |   |   |   |   |   |   |   |--- value: [614.00]\n",
            "|   |   |   |   |   |   |   |   |--- feature_7 >  0.46\n",
            "|   |   |   |   |   |   |   |   |   |--- value: [471.00]\n",
            "|   |   |   |   |   |   |   |--- feature_6 >  0.48\n",
            "|   |   |   |   |   |   |   |   |--- feature_6 <= 0.51\n",
            "|   |   |   |   |   |   |   |   |   |--- feature_9 <= 0.34\n",
            "|   |   |   |   |   |   |   |   |   |   |--- value: [834.00]\n",
            "|   |   |   |   |   |   |   |   |   |--- feature_9 >  0.34\n",
            "|   |   |   |   |   |   |   |   |   |   |--- value: [905.00]\n",
            "|   |   |   |   |   |   |   |   |--- feature_6 >  0.51\n",
            "|   |   |   |   |   |   |   |   |   |--- value: [1008.00]\n",
            "|   |   |   |   |--- feature_7 >  0.53\n",
            "|   |   |   |   |   |--- feature_9 <= 0.13\n",
            "|   |   |   |   |   |   |--- feature_7 <= 0.72\n",
            "|   |   |   |   |   |   |   |--- feature_6 <= 0.68\n",
            "|   |   |   |   |   |   |   |   |--- feature_8 <= 0.82\n",
            "|   |   |   |   |   |   |   |   |   |--- feature_9 <= 0.09\n",
            "|   |   |   |   |   |   |   |   |   |   |--- feature_7 <= 0.59\n",
            "|   |   |   |   |   |   |   |   |   |   |   |--- truncated branch of depth 2\n",
            "|   |   |   |   |   |   |   |   |   |   |--- feature_7 >  0.59\n",
            "|   |   |   |   |   |   |   |   |   |   |   |--- truncated branch of depth 2\n",
            "|   |   |   |   |   |   |   |   |   |--- feature_9 >  0.09\n",
            "|   |   |   |   |   |   |   |   |   |   |--- feature_6 <= 0.64\n",
            "|   |   |   |   |   |   |   |   |   |   |   |--- truncated branch of depth 6\n",
            "|   |   |   |   |   |   |   |   |   |   |--- feature_6 >  0.64\n",
            "|   |   |   |   |   |   |   |   |   |   |   |--- truncated branch of depth 3\n",
            "|   |   |   |   |   |   |   |   |--- feature_8 >  0.82\n",
            "|   |   |   |   |   |   |   |   |   |--- value: [1334.00]\n",
            "|   |   |   |   |   |   |   |--- feature_6 >  0.68\n",
            "|   |   |   |   |   |   |   |   |--- feature_9 <= 0.12\n",
            "|   |   |   |   |   |   |   |   |   |--- feature_7 <= 0.64\n",
            "|   |   |   |   |   |   |   |   |   |   |--- value: [1177.00]\n",
            "|   |   |   |   |   |   |   |   |   |--- feature_7 >  0.64\n",
            "|   |   |   |   |   |   |   |   |   |   |--- feature_9 <= 0.10\n",
            "|   |   |   |   |   |   |   |   |   |   |   |--- value: [1363.00]\n",
            "|   |   |   |   |   |   |   |   |   |   |--- feature_9 >  0.10\n",
            "|   |   |   |   |   |   |   |   |   |   |   |--- truncated branch of depth 2\n",
            "|   |   |   |   |   |   |   |   |--- feature_9 >  0.12\n",
            "|   |   |   |   |   |   |   |   |   |--- feature_9 <= 0.13\n",
            "|   |   |   |   |   |   |   |   |   |   |--- feature_6 <= 0.73\n",
            "|   |   |   |   |   |   |   |   |   |   |   |--- value: [989.00]\n",
            "|   |   |   |   |   |   |   |   |   |   |--- feature_6 >  0.73\n",
            "|   |   |   |   |   |   |   |   |   |   |   |--- truncated branch of depth 2\n",
            "|   |   |   |   |   |   |   |   |   |--- feature_9 >  0.13\n",
            "|   |   |   |   |   |   |   |   |   |   |--- value: [1233.00]\n",
            "|   |   |   |   |   |   |--- feature_7 >  0.72\n",
            "|   |   |   |   |   |   |   |--- feature_6 <= 0.78\n",
            "|   |   |   |   |   |   |   |   |--- feature_8 <= 0.70\n",
            "|   |   |   |   |   |   |   |   |   |--- value: [673.00]\n",
            "|   |   |   |   |   |   |   |   |--- feature_8 >  0.70\n",
            "|   |   |   |   |   |   |   |   |   |--- value: [568.00]\n",
            "|   |   |   |   |   |   |   |--- feature_6 >  0.78\n",
            "|   |   |   |   |   |   |   |   |--- feature_9 <= 0.12\n",
            "|   |   |   |   |   |   |   |   |   |--- feature_6 <= 0.80\n",
            "|   |   |   |   |   |   |   |   |   |   |--- value: [872.00]\n",
            "|   |   |   |   |   |   |   |   |   |--- feature_6 >  0.80\n",
            "|   |   |   |   |   |   |   |   |   |   |--- value: [921.00]\n",
            "|   |   |   |   |   |   |   |   |--- feature_9 >  0.12\n",
            "|   |   |   |   |   |   |   |   |   |--- value: [778.00]\n",
            "|   |   |   |   |   |--- feature_9 >  0.13\n",
            "|   |   |   |   |   |   |--- feature_8 <= 0.53\n",
            "|   |   |   |   |   |   |   |--- feature_6 <= 0.81\n",
            "|   |   |   |   |   |   |   |   |--- feature_9 <= 0.15\n",
            "|   |   |   |   |   |   |   |   |   |--- value: [1281.00]\n",
            "|   |   |   |   |   |   |   |   |--- feature_9 >  0.15\n",
            "|   |   |   |   |   |   |   |   |   |--- feature_8 <= 0.51\n",
            "|   |   |   |   |   |   |   |   |   |   |--- feature_1 <= 6.50\n",
            "|   |   |   |   |   |   |   |   |   |   |   |--- truncated branch of depth 6\n",
            "|   |   |   |   |   |   |   |   |   |   |--- feature_1 >  6.50\n",
            "|   |   |   |   |   |   |   |   |   |   |   |--- truncated branch of depth 4\n",
            "|   |   |   |   |   |   |   |   |   |--- feature_8 >  0.51\n",
            "|   |   |   |   |   |   |   |   |   |   |--- feature_6 <= 0.65\n",
            "|   |   |   |   |   |   |   |   |   |   |   |--- value: [1242.00]\n",
            "|   |   |   |   |   |   |   |   |   |   |--- feature_6 >  0.65\n",
            "|   |   |   |   |   |   |   |   |   |   |   |--- value: [1032.00]\n",
            "|   |   |   |   |   |   |   |--- feature_6 >  0.81\n",
            "|   |   |   |   |   |   |   |   |--- value: [1405.00]\n",
            "|   |   |   |   |   |   |--- feature_8 >  0.53\n",
            "|   |   |   |   |   |   |   |--- feature_5 <= 1.50\n",
            "|   |   |   |   |   |   |   |   |--- feature_9 <= 0.17\n",
            "|   |   |   |   |   |   |   |   |   |--- feature_9 <= 0.17\n",
            "|   |   |   |   |   |   |   |   |   |   |--- feature_3 <= 3.50\n",
            "|   |   |   |   |   |   |   |   |   |   |   |--- truncated branch of depth 7\n",
            "|   |   |   |   |   |   |   |   |   |   |--- feature_3 >  3.50\n",
            "|   |   |   |   |   |   |   |   |   |   |   |--- truncated branch of depth 2\n",
            "|   |   |   |   |   |   |   |   |   |--- feature_9 >  0.17\n",
            "|   |   |   |   |   |   |   |   |   |   |--- feature_8 <= 0.65\n",
            "|   |   |   |   |   |   |   |   |   |   |   |--- value: [1198.00]\n",
            "|   |   |   |   |   |   |   |   |   |   |--- feature_8 >  0.65\n",
            "|   |   |   |   |   |   |   |   |   |   |   |--- value: [1128.00]\n",
            "|   |   |   |   |   |   |   |   |--- feature_9 >  0.17\n",
            "|   |   |   |   |   |   |   |   |   |--- feature_7 <= 0.73\n",
            "|   |   |   |   |   |   |   |   |   |   |--- feature_6 <= 0.72\n",
            "|   |   |   |   |   |   |   |   |   |   |   |--- truncated branch of depth 7\n",
            "|   |   |   |   |   |   |   |   |   |   |--- feature_6 >  0.72\n",
            "|   |   |   |   |   |   |   |   |   |   |   |--- truncated branch of depth 5\n",
            "|   |   |   |   |   |   |   |   |   |--- feature_7 >  0.73\n",
            "|   |   |   |   |   |   |   |   |   |   |--- feature_6 <= 0.79\n",
            "|   |   |   |   |   |   |   |   |   |   |   |--- value: [606.00]\n",
            "|   |   |   |   |   |   |   |   |   |   |--- feature_6 >  0.79\n",
            "|   |   |   |   |   |   |   |   |   |   |   |--- value: [662.00]\n",
            "|   |   |   |   |   |   |   |--- feature_5 >  1.50\n",
            "|   |   |   |   |   |   |   |   |--- feature_3 <= 1.50\n",
            "|   |   |   |   |   |   |   |   |   |--- feature_8 <= 0.76\n",
            "|   |   |   |   |   |   |   |   |   |   |--- feature_7 <= 0.55\n",
            "|   |   |   |   |   |   |   |   |   |   |   |--- truncated branch of depth 2\n",
            "|   |   |   |   |   |   |   |   |   |   |--- feature_7 >  0.55\n",
            "|   |   |   |   |   |   |   |   |   |   |   |--- truncated branch of depth 4\n",
            "|   |   |   |   |   |   |   |   |   |--- feature_8 >  0.76\n",
            "|   |   |   |   |   |   |   |   |   |   |--- feature_8 <= 0.79\n",
            "|   |   |   |   |   |   |   |   |   |   |   |--- value: [653.00]\n",
            "|   |   |   |   |   |   |   |   |   |   |--- feature_8 >  0.79\n",
            "|   |   |   |   |   |   |   |   |   |   |   |--- value: [630.00]\n",
            "|   |   |   |   |   |   |   |   |--- feature_3 >  1.50\n",
            "|   |   |   |   |   |   |   |   |   |--- feature_9 <= 0.19\n",
            "|   |   |   |   |   |   |   |   |   |   |--- feature_9 <= 0.15\n",
            "|   |   |   |   |   |   |   |   |   |   |   |--- truncated branch of depth 5\n",
            "|   |   |   |   |   |   |   |   |   |   |--- feature_9 >  0.15\n",
            "|   |   |   |   |   |   |   |   |   |   |   |--- truncated branch of depth 3\n",
            "|   |   |   |   |   |   |   |   |   |--- feature_9 >  0.19\n",
            "|   |   |   |   |   |   |   |   |   |   |--- feature_1 <= 8.00\n",
            "|   |   |   |   |   |   |   |   |   |   |   |--- truncated branch of depth 5\n",
            "|   |   |   |   |   |   |   |   |   |   |--- feature_1 >  8.00\n",
            "|   |   |   |   |   |   |   |   |   |   |   |--- value: [428.00]\n",
            "|   |   |   |--- feature_3 >  4.50\n",
            "|   |   |   |   |--- feature_1 <= 4.00\n",
            "|   |   |   |   |   |--- value: [2469.00]\n",
            "|   |   |   |   |--- feature_1 >  4.00\n",
            "|   |   |   |   |   |--- feature_8 <= 0.72\n",
            "|   |   |   |   |   |   |--- feature_9 <= 0.12\n",
            "|   |   |   |   |   |   |   |--- feature_9 <= 0.08\n",
            "|   |   |   |   |   |   |   |   |--- value: [1325.00]\n",
            "|   |   |   |   |   |   |   |--- feature_9 >  0.08\n",
            "|   |   |   |   |   |   |   |   |--- feature_8 <= 0.65\n",
            "|   |   |   |   |   |   |   |   |   |--- feature_6 <= 0.67\n",
            "|   |   |   |   |   |   |   |   |   |   |--- value: [1516.00]\n",
            "|   |   |   |   |   |   |   |   |   |--- feature_6 >  0.67\n",
            "|   |   |   |   |   |   |   |   |   |   |--- value: [1511.00]\n",
            "|   |   |   |   |   |   |   |   |--- feature_8 >  0.65\n",
            "|   |   |   |   |   |   |   |   |   |--- value: [1379.00]\n",
            "|   |   |   |   |   |   |--- feature_9 >  0.12\n",
            "|   |   |   |   |   |   |   |--- feature_7 <= 0.77\n",
            "|   |   |   |   |   |   |   |   |--- feature_1 <= 6.50\n",
            "|   |   |   |   |   |   |   |   |   |--- feature_8 <= 0.52\n",
            "|   |   |   |   |   |   |   |   |   |   |--- feature_9 <= 0.25\n",
            "|   |   |   |   |   |   |   |   |   |   |   |--- truncated branch of depth 2\n",
            "|   |   |   |   |   |   |   |   |   |   |--- feature_9 >  0.25\n",
            "|   |   |   |   |   |   |   |   |   |   |   |--- value: [898.00]\n",
            "|   |   |   |   |   |   |   |   |   |--- feature_8 >  0.52\n",
            "|   |   |   |   |   |   |   |   |   |   |--- feature_0 <= 2.50\n",
            "|   |   |   |   |   |   |   |   |   |   |   |--- truncated branch of depth 3\n",
            "|   |   |   |   |   |   |   |   |   |   |--- feature_0 >  2.50\n",
            "|   |   |   |   |   |   |   |   |   |   |   |--- truncated branch of depth 2\n",
            "|   |   |   |   |   |   |   |   |--- feature_1 >  6.50\n",
            "|   |   |   |   |   |   |   |   |   |--- feature_6 <= 0.72\n",
            "|   |   |   |   |   |   |   |   |   |   |--- feature_6 <= 0.69\n",
            "|   |   |   |   |   |   |   |   |   |   |   |--- truncated branch of depth 2\n",
            "|   |   |   |   |   |   |   |   |   |   |--- feature_6 >  0.69\n",
            "|   |   |   |   |   |   |   |   |   |   |   |--- truncated branch of depth 3\n",
            "|   |   |   |   |   |   |   |   |   |--- feature_6 >  0.72\n",
            "|   |   |   |   |   |   |   |   |   |   |--- feature_7 <= 0.72\n",
            "|   |   |   |   |   |   |   |   |   |   |   |--- truncated branch of depth 2\n",
            "|   |   |   |   |   |   |   |   |   |   |--- feature_7 >  0.72\n",
            "|   |   |   |   |   |   |   |   |   |   |   |--- value: [1366.00]\n",
            "|   |   |   |   |   |   |   |--- feature_7 >  0.77\n",
            "|   |   |   |   |   |   |   |   |--- feature_9 <= 0.17\n",
            "|   |   |   |   |   |   |   |   |   |--- value: [829.00]\n",
            "|   |   |   |   |   |   |   |   |--- feature_9 >  0.17\n",
            "|   |   |   |   |   |   |   |   |   |--- value: [670.00]\n",
            "|   |   |   |   |   |--- feature_8 >  0.72\n",
            "|   |   |   |   |   |   |--- feature_9 <= 0.20\n",
            "|   |   |   |   |   |   |   |--- feature_1 <= 5.50\n",
            "|   |   |   |   |   |   |   |   |--- feature_6 <= 0.61\n",
            "|   |   |   |   |   |   |   |   |   |--- value: [909.00]\n",
            "|   |   |   |   |   |   |   |   |--- feature_6 >  0.61\n",
            "|   |   |   |   |   |   |   |   |   |--- value: [1417.00]\n",
            "|   |   |   |   |   |   |   |--- feature_1 >  5.50\n",
            "|   |   |   |   |   |   |   |   |--- feature_6 <= 0.55\n",
            "|   |   |   |   |   |   |   |   |   |--- value: [1182.00]\n",
            "|   |   |   |   |   |   |   |   |--- feature_6 >  0.55\n",
            "|   |   |   |   |   |   |   |   |   |--- feature_6 <= 0.70\n",
            "|   |   |   |   |   |   |   |   |   |   |--- feature_8 <= 0.75\n",
            "|   |   |   |   |   |   |   |   |   |   |   |--- truncated branch of depth 2\n",
            "|   |   |   |   |   |   |   |   |   |   |--- feature_8 >  0.75\n",
            "|   |   |   |   |   |   |   |   |   |   |   |--- truncated branch of depth 2\n",
            "|   |   |   |   |   |   |   |   |   |--- feature_6 >  0.70\n",
            "|   |   |   |   |   |   |   |   |   |   |--- value: [1045.00]\n",
            "|   |   |   |   |   |   |--- feature_9 >  0.20\n",
            "|   |   |   |   |   |   |   |--- feature_9 <= 0.23\n",
            "|   |   |   |   |   |   |   |   |--- value: [529.00]\n",
            "|   |   |   |   |   |   |   |--- feature_9 >  0.23\n",
            "|   |   |   |   |   |   |   |   |--- value: [533.00]\n",
            "|   |   |--- feature_8 >  0.83\n",
            "|   |   |   |--- feature_5 <= 2.50\n",
            "|   |   |   |   |--- feature_8 <= 0.94\n",
            "|   |   |   |   |   |--- feature_1 <= 5.50\n",
            "|   |   |   |   |   |   |--- feature_6 <= 0.53\n",
            "|   |   |   |   |   |   |   |--- value: [692.00]\n",
            "|   |   |   |   |   |   |--- feature_6 >  0.53\n",
            "|   |   |   |   |   |   |   |--- feature_3 <= 2.50\n",
            "|   |   |   |   |   |   |   |   |--- value: [678.00]\n",
            "|   |   |   |   |   |   |   |--- feature_3 >  2.50\n",
            "|   |   |   |   |   |   |   |   |--- feature_7 <= 0.55\n",
            "|   |   |   |   |   |   |   |   |   |--- value: [536.00]\n",
            "|   |   |   |   |   |   |   |   |--- feature_7 >  0.55\n",
            "|   |   |   |   |   |   |   |   |   |--- value: [547.00]\n",
            "|   |   |   |   |   |--- feature_1 >  5.50\n",
            "|   |   |   |   |   |   |--- feature_8 <= 0.89\n",
            "|   |   |   |   |   |   |   |--- feature_6 <= 0.60\n",
            "|   |   |   |   |   |   |   |   |--- value: [438.00]\n",
            "|   |   |   |   |   |   |   |--- feature_6 >  0.60\n",
            "|   |   |   |   |   |   |   |   |--- feature_3 <= 2.50\n",
            "|   |   |   |   |   |   |   |   |   |--- value: [477.00]\n",
            "|   |   |   |   |   |   |   |   |--- feature_3 >  2.50\n",
            "|   |   |   |   |   |   |   |   |   |--- value: [480.00]\n",
            "|   |   |   |   |   |   |--- feature_8 >  0.89\n",
            "|   |   |   |   |   |   |   |--- value: [555.00]\n",
            "|   |   |   |   |--- feature_8 >  0.94\n",
            "|   |   |   |   |   |--- value: [258.00]\n",
            "|   |   |   |--- feature_5 >  2.50\n",
            "|   |   |   |   |--- feature_7 <= 0.49\n",
            "|   |   |   |   |   |--- value: [126.00]\n",
            "|   |   |   |   |--- feature_7 >  0.49\n",
            "|   |   |   |   |   |--- feature_6 <= 0.57\n",
            "|   |   |   |   |   |   |--- feature_7 <= 0.51\n",
            "|   |   |   |   |   |   |   |--- value: [254.00]\n",
            "|   |   |   |   |   |   |--- feature_7 >  0.51\n",
            "|   |   |   |   |   |   |   |--- feature_9 <= 0.30\n",
            "|   |   |   |   |   |   |   |   |--- value: [217.00]\n",
            "|   |   |   |   |   |   |   |--- feature_9 >  0.30\n",
            "|   |   |   |   |   |   |   |   |--- value: [204.00]\n",
            "|   |   |   |   |   |--- feature_6 >  0.57\n",
            "|   |   |   |   |   |   |--- value: [315.00]\n",
            "\n"
          ]
        }
      ]
    },
    {
      "cell_type": "markdown",
      "source": [
        "So now we have a tree-based model; but is it any good? Let's evaluate it with the test data."
      ],
      "metadata": {
        "id": "_n02dK6yDwWf"
      }
    },
    {
      "cell_type": "code",
      "source": [
        "# Evaluate the model using the test data\n",
        "predictions = model.predict(X_test)\n",
        "mse = mean_squared_error(y_test, predictions)\n",
        "print(\"MSE:\", mse)\n",
        "rmse = np.sqrt(mse)\n",
        "print(\"RMSE:\", rmse)\n",
        "r2 = r2_score(y_test, predictions)\n",
        "print(\"R2:\", r2)"
      ],
      "metadata": {
        "colab": {
          "base_uri": "https://localhost:8080/"
        },
        "id": "OfdWXDGjDyk5",
        "outputId": "22f02851-f56a-4cef-b7d4-4841e0556419"
      },
      "execution_count": null,
      "outputs": [
        {
          "output_type": "stream",
          "name": "stdout",
          "text": [
            "MSE: 230886.21818181817\n",
            "RMSE: 480.50621034677397\n",
            "R2: 0.547362060514641\n"
          ]
        }
      ]
    },
    {
      "cell_type": "code",
      "source": [
        "# Plot predicted vs actual\n",
        "plt.scatter(y_test, predictions)\n",
        "plt.xlabel('Actual Labels')\n",
        "plt.ylabel('Predicted Labels')\n",
        "plt.title('Daily Bike Share Predictions')"
      ],
      "metadata": {
        "colab": {
          "base_uri": "https://localhost:8080/",
          "height": 313
        },
        "id": "5koxwddND51F",
        "outputId": "aadb6f49-074d-496b-e8ab-e7eb4eb9ca57"
      },
      "execution_count": null,
      "outputs": [
        {
          "output_type": "execute_result",
          "data": {
            "text/plain": [
              "Text(0.5, 1.0, 'Daily Bike Share Predictions')"
            ]
          },
          "metadata": {},
          "execution_count": 14
        },
        {
          "output_type": "display_data",
          "data": {
            "text/plain": [
              "<Figure size 432x288 with 1 Axes>"
            ],
            "image/png": "[encoded data removed]"
          },
          "metadata": {
            "needs_background": "light"
          }
        }
      ]
    },
    {
      "cell_type": "code",
      "source": [
        "# overlay the regression line\n",
        "z = np.polyfit(y_test, predictions, 1)\n",
        "p = np.poly1d(z)\n",
        "plt.plot(y_test,p(y_test), color='magenta')\n",
        "plt.show()"
      ],
      "metadata": {
        "colab": {
          "base_uri": "https://localhost:8080/",
          "height": 265
        },
        "id": "i-XjZ161ECul",
        "outputId": "3fffd150-ec9e-4ba9-d9ec-775c7e88721c"
      },
      "execution_count": null,
      "outputs": [
        {
          "output_type": "display_data",
          "data": {
            "text/plain": [
              "<Figure size 432x288 with 1 Axes>"
            ],
            "image/png": "[encoded data removed]"
          },
          "metadata": {
            "needs_background": "light"
          }
        }
      ]
    },
    {
      "cell_type": "code",
      "source": [
        "from sklearn.ensemble import RandomForestRegressor\n",
        "\n",
        "# Train the model\n",
        "model = RandomForestRegressor().fit(X_train, y_train)\n",
        "print (model, \"\\n\")\n"
      ],
      "metadata": {
        "colab": {
          "base_uri": "https://localhost:8080/"
        },
        "id": "SARG5ovgEa_m",
        "outputId": "de44ecbe-7281-4781-e46b-b8afa6ac0137"
      },
      "execution_count": null,
      "outputs": [
        {
          "output_type": "stream",
          "name": "stdout",
          "text": [
            "RandomForestRegressor() \n",
            "\n"
          ]
        }
      ]
    },
    {
      "cell_type": "code",
      "source": [
        "# Train the model\n",
        "from sklearn.ensemble import GradientBoostingRegressor\n"
      ],
      "metadata": {
        "id": "fkcczm1aEmNe"
      },
      "execution_count": null,
      "outputs": []
    },
    {
      "cell_type": "code",
      "source": [
        "# Fit a lasso model on the training set\n",
        "model = GradientBoostingRegressor().fit(X_train, y_train)\n",
        "print (model, \"\\n\")"
      ],
      "metadata": {
        "colab": {
          "base_uri": "https://localhost:8080/"
        },
        "id": "a4InyKbPEqMe",
        "outputId": "f476226e-5180-4979-d512-642c02098379"
      },
      "execution_count": null,
      "outputs": [
        {
          "output_type": "stream",
          "name": "stdout",
          "text": [
            "GradientBoostingRegressor() \n",
            "\n"
          ]
        }
      ]
    },
    {
      "cell_type": "code",
      "source": [
        "# Evaluate the model using the test data\n",
        "predictions = model.predict(X_test)\n",
        "mse = mean_squared_error(y_test, predictions)\n",
        "print(\"MSE:\", mse)\n",
        "rmse = np.sqrt(mse)\n",
        "print(\"RMSE:\", rmse)\n",
        "r2 = r2_score(y_test, predictions)\n",
        "print(\"R2:\", r2)"
      ],
      "metadata": {
        "colab": {
          "base_uri": "https://localhost:8080/"
        },
        "id": "tduB1f5bEsEx",
        "outputId": "d730e2c8-4b43-4de2-92ff-099404dd40e3"
      },
      "execution_count": null,
      "outputs": [
        {
          "output_type": "stream",
          "name": "stdout",
          "text": [
            "MSE: 104194.56858419949\n",
            "RMSE: 322.7918347545357\n",
            "R2: 0.7957330879213478\n"
          ]
        }
      ]
    },
    {
      "cell_type": "code",
      "source": [
        "# Plot predicted vs actual\n",
        "plt.scatter(y_test, predictions)\n",
        "plt.xlabel('Actual Labels')\n",
        "plt.ylabel('Predicted Labels')\n",
        "plt.title('Daily Bike Share Predictions')\n",
        "\n",
        "# overlay the regression line\n",
        "z = np.polyfit(y_test, predictions, 1)\n",
        "p = np.poly1d(z)\n",
        "plt.plot(y_test,p(y_test), color='magenta')\n",
        "plt.show()"
      ],
      "metadata": {
        "colab": {
          "base_uri": "https://localhost:8080/",
          "height": 295
        },
        "id": "kj-ZtMGsEw58",
        "outputId": "ef8884b4-26e3-44d9-a05b-5f7db5689163"
      },
      "execution_count": null,
      "outputs": [
        {
          "output_type": "display_data",
          "data": {
            "text/plain": [
              "<Figure size 432x288 with 1 Axes>"
            ],
            "image/png": "[encoded data removed]"
          },
          "metadata": {
            "needs_background": "light"
          }
        }
      ]
    },
    {
      "cell_type": "markdown",
      "source": [
        "** Optimize Hyperparameters**\n",
        "Let's try using a grid search approach to try combinations from a grid of possible values for the learning_rate and n_estimators hyperparameters of the GradientBoostingRegressor estimator.\n",
        "\n"
      ],
      "metadata": {
        "id": "YDTNzjh9Fd4g"
      }
    },
    {
      "cell_type": "code",
      "source": [
        "from sklearn.model_selection import GridSearchCV\n",
        "from sklearn.metrics import make_scorer, r2_score"
      ],
      "metadata": {
        "id": "6scEqoY-FkhQ"
      },
      "execution_count": null,
      "outputs": []
    },
    {
      "cell_type": "code",
      "source": [
        "# Use a Gradient Boosting algorithm\n",
        "alg = GradientBoostingRegressor()\n"
      ],
      "metadata": {
        "id": "sxpQV18lF2Pv"
      },
      "execution_count": null,
      "outputs": []
    },
    {
      "cell_type": "code",
      "source": [
        "# Try these hyperparameter values\n",
        "params = {\n",
        " 'learning_rate': [0.1, 0.5, 1.0],\n",
        " 'n_estimators' : [50, 100, 150]\n",
        " }\n"
      ],
      "metadata": {
        "id": "bMxqqNb6F6-a"
      },
      "execution_count": null,
      "outputs": []
    },
    {
      "cell_type": "code",
      "source": [
        "# Find the best hyperparameter combination to optimize the R2 metric\n",
        "score = make_scorer(r2_score)\n",
        "gridsearch = GridSearchCV(alg, params, scoring=score, cv=3, return_train_score=True)\n",
        "gridsearch.fit(X_train, y_train)\n",
        "print(\"Best parameter combination:\", gridsearch.best_params_, \"\\n\")\n"
      ],
      "metadata": {
        "colab": {
          "base_uri": "https://localhost:8080/"
        },
        "id": "LN4e3liNGAQC",
        "outputId": "d635eb09-bef3-4f4d-89c8-ce7a6f9b7cf6"
      },
      "execution_count": null,
      "outputs": [
        {
          "output_type": "stream",
          "name": "stdout",
          "text": [
            "Best parameter combination: {'learning_rate': 0.1, 'n_estimators': 50} \n",
            "\n"
          ]
        }
      ]
    },
    {
      "cell_type": "code",
      "source": [
        "# Get the best model\n",
        "model=gridsearch.best_estimator_\n",
        "print(model, \"\\n\")"
      ],
      "metadata": {
        "colab": {
          "base_uri": "https://localhost:8080/"
        },
        "id": "wgYvlROFGGcE",
        "outputId": "efc82428-b9ad-4728-e1e0-d11c457a7280"
      },
      "execution_count": null,
      "outputs": [
        {
          "output_type": "stream",
          "name": "stdout",
          "text": [
            "GradientBoostingRegressor(n_estimators=50) \n",
            "\n"
          ]
        }
      ]
    },
    {
      "cell_type": "code",
      "source": [
        "# Evaluate the model using the test data\n",
        "predictions = model.predict(X_test)\n",
        "mse = mean_squared_error(y_test, predictions)\n",
        "print(\"MSE:\", mse)\n",
        "rmse = np.sqrt(mse)\n",
        "print(\"RMSE:\", rmse)\n",
        "r2 = r2_score(y_test, predictions)\n",
        "print(\"R2:\", r2)"
      ],
      "metadata": {
        "colab": {
          "base_uri": "https://localhost:8080/"
        },
        "id": "IgFob0yrGLyz",
        "outputId": "b8a02565-76db-4eea-e77b-2c26e35d3b75"
      },
      "execution_count": null,
      "outputs": [
        {
          "output_type": "stream",
          "name": "stdout",
          "text": [
            "MSE: 108932.42785573467\n",
            "RMSE: 330.0491294576228\n",
            "R2: 0.7864448121848093\n"
          ]
        }
      ]
    },
    {
      "cell_type": "code",
      "source": [
        "# Plot predicted vs actual\n",
        "plt.scatter(y_test, predictions)\n",
        "plt.xlabel('Actual Labels')\n",
        "plt.ylabel('Predicted Labels')\n",
        "plt.title('Daily Bike Share Predictions')\n",
        "# overlay the regression line\n",
        "z = np.polyfit(y_test, predictions, 1)\n",
        "p = np.poly1d(z)\n",
        "plt.plot(y_test,p(y_test), color='magenta')\n",
        "plt.show()"
      ],
      "metadata": {
        "colab": {
          "base_uri": "https://localhost:8080/",
          "height": 295
        },
        "id": "7ifnCV2WGRSH",
        "outputId": "f1fa3e58-55fa-4190-f044-c2a5c9ad0978"
      },
      "execution_count": null,
      "outputs": [
        {
          "output_type": "display_data",
          "data": {
            "text/plain": [
              "<Figure size 432x288 with 1 Axes>"
            ],
            "image/png": "[encoded data removed]"
          },
          "metadata": {
            "needs_background": "light"
          }
        }
      ]
    },
    {
      "cell_type": "code",
      "source": [],
      "metadata": {
        "id": "l9XRDhspGZv9"
      },
      "execution_count": null,
      "outputs": []
    }
  ]
}